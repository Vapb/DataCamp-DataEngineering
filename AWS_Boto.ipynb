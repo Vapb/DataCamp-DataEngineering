{
 "cells": [
  {
   "cell_type": "markdown",
   "metadata": {},
   "source": [
    "### Putting Files in the Cloud!"
   ]
  },
  {
   "cell_type": "code",
   "execution_count": null,
   "metadata": {},
   "outputs": [],
   "source": [
    "import boto3\n",
    "import pandas as pd"
   ]
  },
  {
   "cell_type": "markdown",
   "metadata": {},
   "source": [
    "Creating user client"
   ]
  },
  {
   "cell_type": "code",
   "execution_count": null,
   "metadata": {},
   "outputs": [],
   "source": [
    "# Generate the boto3 client for interacting with S3\n",
    "s3 = boto3.client(# AWS Services.\n",
    "                  's3',\n",
    "                  region_name='us-east-1', \n",
    "                  # Set up AWS credentials KeyID 'Username' Key 'Password'\n",
    "                  aws_access_key_id=AWS_KEY_ID, \n",
    "                  aws_secret_access_key=AWS_SECRET)\n",
    "                  \n",
    "# List the buckets\n",
    "buckets = s3.list_buckets()\n",
    "\n",
    "# Print the buckets\n",
    "print(buckets)"
   ]
  },
  {
   "cell_type": "markdown",
   "metadata": {},
   "source": [
    "Creating multiple Clients"
   ]
  },
  {
   "cell_type": "code",
   "execution_count": null,
   "metadata": {},
   "outputs": [],
   "source": [
    "# Generate the boto3 client for interacting with S3 and SNS\n",
    "s3 = boto3.client('s3',\n",
    "                  region_name='us-east-1', \n",
    "                  aws_access_key_id=AWS_KEY_ID, \n",
    "                  aws_secret_access_key=AWS_SECRET)\n",
    "\n",
    "sns = boto3.client('sns',\n",
    "                   region_name='us-east-1', \n",
    "                   aws_access_key_id=AWS_KEY_ID, \n",
    "                   aws_secret_access_key=AWS_SECRET)\n",
    "\n",
    "# List S3 buckets and SNS topics\n",
    "buckets = s3.list_buckets()\n",
    "topics = sns.list_topics()\n",
    "\n",
    "# Print out the list of SNS topics\n",
    "print(topics)"
   ]
  },
  {
   "cell_type": "markdown",
   "metadata": {},
   "source": [
    "Creating buckets"
   ]
  },
  {
   "cell_type": "code",
   "execution_count": null,
   "metadata": {},
   "outputs": [],
   "source": [
    "import boto3\n",
    "\n",
    "# Create boto3 client to S3\n",
    "s3 = boto3.client('s3',\n",
    "                  region_name='us-east-1', \n",
    "                  aws_access_key_id=AWS_KEY_ID, \n",
    "                  aws_secret_access_key=AWS_SECRET)\n",
    "\n",
    "# Create the buckets\n",
    "response_staging = s3.create_bucket(Bucket='gim-staging')\n",
    "response_processed = s3.create_bucket(Bucket='gim-processed')\n",
    "response_test = s3.create_bucket(Bucket='gim-test')\n",
    "\n",
    "# Print out the response\n",
    "print(response_staging)"
   ]
  },
  {
   "cell_type": "markdown",
   "metadata": {},
   "source": [
    "List all buckets"
   ]
  },
  {
   "cell_type": "code",
   "execution_count": null,
   "metadata": {},
   "outputs": [],
   "source": [
    "# Get the list_buckets response\n",
    "response = s3.list_buckets()\n",
    "\n",
    "# Iterate over Buckets from .list_buckets() response\n",
    "for bucket in response['Buckets']:\n",
    "  \n",
    "  \t# Print the Name for each bucket\n",
    "    print(bucket['Name'])"
   ]
  },
  {
   "cell_type": "markdown",
   "metadata": {},
   "source": [
    "Delete bucket"
   ]
  },
  {
   "cell_type": "code",
   "execution_count": null,
   "metadata": {},
   "outputs": [],
   "source": [
    "# Delete the gim-test bucket\n",
    "s3.delete_bucket(Bucket='gim-test')"
   ]
  },
  {
   "cell_type": "markdown",
   "metadata": {},
   "source": [
    "Insert Object into bucket (Upload)"
   ]
  },
  {
   "cell_type": "code",
   "execution_count": null,
   "metadata": {},
   "outputs": [],
   "source": [
    "# Upload final_report.csv to gid-staging\n",
    "s3.upload_file(Bucket='gid-staging',\n",
    "              # Set filename and key\n",
    "               Filename='final_report.csv', \n",
    "               Key='2019/final_report_01_01.csv')"
   ]
  },
  {
   "cell_type": "markdown",
   "metadata": {},
   "source": [
    "List all objects inside bucket"
   ]
  },
  {
   "cell_type": "code",
   "execution_count": null,
   "metadata": {},
   "outputs": [],
   "source": [
    "response = s3.list_objects(\n",
    "    Bucket='gid-staging',\n",
    "    Prefix='2018/'\n",
    ")"
   ]
  },
  {
   "cell_type": "markdown",
   "metadata": {},
   "source": [
    "Get metadata from object"
   ]
  },
  {
   "cell_type": "code",
   "execution_count": null,
   "metadata": {},
   "outputs": [],
   "source": [
    "# Get object metadata and print it\n",
    "response = s3.head_object(Bucket='gid-staging', \n",
    "                          Key='2019/final_report_01_01.csv')\n",
    "\n",
    "# Print the size of the uploaded object\n",
    "print(response['ContentLength'])"
   ]
  },
  {
   "cell_type": "markdown",
   "metadata": {},
   "source": [
    "Download File "
   ]
  },
  {
   "cell_type": "code",
   "execution_count": null,
   "metadata": {},
   "outputs": [],
   "source": [
    "s3.download_file(\n",
    "    Filename='final_report_01_02.csv',\n",
    "    Bucket='gid-staging',\n",
    "    Key='2019/final_report_01_02.csv'\n",
    ")"
   ]
  },
  {
   "cell_type": "markdown",
   "metadata": {},
   "source": [
    "Delete File"
   ]
  },
  {
   "cell_type": "code",
   "execution_count": null,
   "metadata": {},
   "outputs": [],
   "source": [
    "s3.delete_object(\n",
    "    Bucket='gid-staging',\n",
    "    Key='2019/final_report_01_01.csv'\n",
    ")"
   ]
  },
  {
   "cell_type": "markdown",
   "metadata": {},
   "source": [
    "## Sharing Files Securely"
   ]
  },
  {
   "cell_type": "markdown",
   "metadata": {},
   "source": [
    "Upload file with puclic-read ACL"
   ]
  },
  {
   "cell_type": "code",
   "execution_count": null,
   "metadata": {},
   "outputs": [],
   "source": [
    "# Upload the final_report.csv to gid-staging bucket\n",
    "s3.upload_file(\n",
    "  # Complete the filename\n",
    "  Filename='./final_report.csv', \n",
    "  # Set the key and bucket\n",
    "  Key='2019/final_report_2019_02_20.csv', \n",
    "  Bucket='gid-staging',\n",
    "  # During upload, set ACL to public-read\n",
    "  ExtraArgs = {'ACL': 'public-read'})"
   ]
  },
  {
   "cell_type": "markdown",
   "metadata": {},
   "source": [
    "Configure ACL of existing object"
   ]
  },
  {
   "cell_type": "code",
   "execution_count": null,
   "metadata": {},
   "outputs": [],
   "source": [
    "# Give each object ACL of public-read\n",
    "s3.put_object_acl(Bucket='gid-staging', \n",
    "                  Key='2019/final_report_2019_02_20.csv', \n",
    "                  ACL='public-read')\n",
    "                 #ACL='private'  "
   ]
  },
  {
   "cell_type": "markdown",
   "metadata": {},
   "source": [
    "Public Object URL"
   ]
  },
  {
   "cell_type": "code",
   "execution_count": null,
   "metadata": {},
   "outputs": [],
   "source": [
    "# Print the Public Object URL for each object\n",
    "url = \"https://{}.s3.amazonaws.com/{}\".format('bucket_name', 'key_name') \n",
    "\n",
    "print(url)\n",
    "\n",
    "# Reading csv inside url\n",
    "df = pd.read_csv(url)"
   ]
  },
  {
   "cell_type": "markdown",
   "metadata": {},
   "source": [
    "#### Accessing Private Files"
   ]
  },
  {
   "cell_type": "markdown",
   "metadata": {},
   "source": [
    "Can Download and Then used from disk"
   ]
  },
  {
   "cell_type": "code",
   "execution_count": null,
   "metadata": {},
   "outputs": [],
   "source": [
    "# Download file to computer\n",
    "s3.download_file(\n",
    "    Filename='potholes_local.csv',\n",
    "    Bucket='gig-staging',\n",
    "    Key='2019/potholes_local.csv'\n",
    ")\n",
    "\n",
    "# Read it from disk\n",
    "pd.read_csv('./potholes_local.csv')"
   ]
  },
  {
   "cell_type": "markdown",
   "metadata": {},
   "source": [
    "Accessing Private Files"
   ]
  },
  {
   "cell_type": "code",
   "execution_count": null,
   "metadata": {},
   "outputs": [],
   "source": [
    "# Access private object\n",
    "obj = s3.get_object(Bucket='gid-requests', Key='KeyName')\n",
    "\n",
    "# Returns Metadata + Obj content Inside BODY\n",
    "print(obj)\n",
    "\n",
    "# Read csv with obj\n",
    "df = pd.read_csv(obj['Body'])"
   ]
  },
  {
   "cell_type": "markdown",
   "metadata": {},
   "source": [
    "Generate Pre-asign URL"
   ]
  },
  {
   "cell_type": "code",
   "execution_count": null,
   "metadata": {},
   "outputs": [],
   "source": [
    "# Generate presigned_url for the uploaded object\n",
    "share_url = s3.generate_presigned_url(\n",
    "  # Specify allowable operations\n",
    "  ClientMethod='get_object',\n",
    "  # Set the expiration time\n",
    "  ExpiresIn=3600,\n",
    "  # Set bucket and shareable object's name\n",
    "  Params={'Bucket': 'gid-staging','Key': 'final_report.csv'}\n",
    ")\n",
    "\n",
    "# Print out the presigned URL\n",
    "print(share_url)\n",
    "\n",
    "# Example\n",
    "# https://gid-staging.s3.amazonaws.com/final_report.csv?AWSAccessKeyId=IAmAFakeKey&Signature=dshH9q7LgMLHlbd5vWXdN4X4OSc%3D&Expires=1660178422\n",
    "\n",
    "# Read with pandas\n",
    "df = pd.read_csv(share_url)\n"
   ]
  },
  {
   "cell_type": "markdown",
   "metadata": {},
   "source": [
    "#### HTML to S3"
   ]
  },
  {
   "cell_type": "markdown",
   "metadata": {},
   "source": [
    "Creating Html Object with pandas"
   ]
  },
  {
   "cell_type": "code",
   "execution_count": null,
   "metadata": {},
   "outputs": [],
   "source": [
    "# Convert Dataframe to html\n",
    "services_df.to_html('./services_no_border.html',\n",
    "           # Keep specific columns only\n",
    "           columns=['service_name', 'link'],\n",
    "           # Set border\n",
    "           border=0,\n",
    "           render_links=True)"
   ]
  },
  {
   "cell_type": "markdown",
   "metadata": {},
   "source": [
    "Upload Html object to s3"
   ]
  },
  {
   "cell_type": "code",
   "execution_count": null,
   "metadata": {},
   "outputs": [],
   "source": [
    "# Upload the lines.html file to S3\n",
    "s3.upload_file(Filename='./lines.html', \n",
    "               # Set the bucket name\n",
    "               Bucket='datacamp-public',\n",
    "               Key='index.html',\n",
    "               # Configure uploaded file\n",
    "               ExtraArgs = {\n",
    "                 # Set proper content type\n",
    "                 'ContentType':'text/html',\n",
    "                 # Set proper ACL\n",
    "                 'ACL': 'public-read'})\n",
    "\n",
    "# Print the S3 Public Object URL for the new file.\n",
    "print(\"http://{}.s3.amazonaws.com/{}\".format('datacamp-public', 'index.html'))"
   ]
  },
  {
   "cell_type": "markdown",
   "metadata": {},
   "source": [
    "Upload Images to S3"
   ]
  },
  {
   "cell_type": "code",
   "execution_count": null,
   "metadata": {},
   "outputs": [],
   "source": [
    "# Upload the lines.html file to S3\n",
    "s3.upload_file(Filename='./plot_image.png', \n",
    "               Bucket='datacamp-public',\n",
    "               Key='plot_image.png',\n",
    "               ExtraArgs = {\n",
    "                 'ContentType':'image/png',\n",
    "                 'ACL': 'public-read'})\n",
    "\n",
    "# More FileTypes IANA Media Types.\n",
    "# JSON : application/json\n",
    "# PDF : application/pdf\n",
    "# CSV : text/csv\n"
   ]
  },
  {
   "cell_type": "markdown",
   "metadata": {},
   "source": [
    "Example of report creation with Html and s3"
   ]
  },
  {
   "cell_type": "code",
   "execution_count": null,
   "metadata": {},
   "outputs": [],
   "source": [
    "df_list = [] \n",
    "\n",
    "# List all files inside bucket prefix 2018\n",
    "request_files = response = s3.list_objects(\n",
    "    Bucket='gid-staging',\n",
    "    Prefix='2018/'\n",
    ")\n",
    "\n",
    "# Load each object from s3\n",
    "for file in request_files:\n",
    "    s3_day_reqs = s3.get_object(Bucket='gid-requests', \n",
    "                                Key=file['Key'])\n",
    "\n",
    "    # Read the DataFrame into pandas, append it to the list\n",
    "    day_reqs = pd.read_csv(s3_day_reqs['Body'])\n",
    "    df_list.append(day_reqs)\n",
    "\n",
    "# Concatenate all the DataFrames in the list\n",
    "all_reqs = pd.concat(df_list)\n",
    "\n",
    "# Preview the DataFrame\n",
    "all_reqs.head()"
   ]
  },
  {
   "cell_type": "code",
   "execution_count": null,
   "metadata": {},
   "outputs": [],
   "source": [
    "# Write agg_df to a CSV and HTML file with no border\n",
    "agg_df.to_csv('./feb_final_report.csv')\n",
    "agg_df.to_html('./feb_final_report.html', border=0)\n",
    "\n",
    "# Upload the generated CSV to the gid-reports bucket\n",
    "s3.upload_file(Filename='./feb_final_report.csv', \n",
    "\tKey='2019/feb/final_report.html',\n",
    "    Bucket='gid-reports',\n",
    "    ExtraArgs = {'ACL': 'public-read'})\n",
    "\n",
    "# Upload the generated HTML to the gid-reports bucket\n",
    "s3.upload_file(Filename='./feb_final_report.html', \n",
    "\tKey='2019/feb/final_report.html',\n",
    "    Bucket='gid-reports',\n",
    "    ExtraArgs = {'ContentType': 'text/html', \n",
    "                 'ACL': 'public-read'})"
   ]
  },
  {
   "cell_type": "code",
   "execution_count": null,
   "metadata": {},
   "outputs": [],
   "source": [
    "# List the gid-reports bucket objects starting with 2019/\n",
    "objects_list = s3.list_objects(Bucket='gid-reports', Prefix='2019/')\n",
    "\n",
    "# Convert the response contents to DataFrame\n",
    "objects_df = pd.DataFrame(objects_list['Contents'])\n",
    "\n",
    "# Create a column \"Link\" that contains Public Object URL\n",
    "base_url = \"http://gid-reports.s3.amazonaws.com/\"\n",
    "objects_df['Link'] = base_url + objects_df['Key']\n",
    "\n",
    "# Preview the resulting DataFrame\n",
    "objects_df.head()"
   ]
  },
  {
   "cell_type": "code",
   "execution_count": null,
   "metadata": {},
   "outputs": [],
   "source": [
    "# Write objects_df to an HTML file\n",
    "objects_df.to_html('report_listing.html',\n",
    "    # Set clickable links\n",
    "    render_links=True,\n",
    "\t# Isolate the columns\n",
    "    columns=['Link', 'LastModified', 'Size'])\n",
    "\n",
    "# Overwrite index.html key by uploading the new file\n",
    "s3.upload_file(\n",
    "  Filename='./report_listing.html',\n",
    "  Key='index.html', \n",
    "  Bucket='gid-reports',\n",
    "  ExtraArgs = {\n",
    "    'ContentType': 'text/html', \n",
    "    'ACL': 'public-read'\n",
    "  })"
   ]
  },
  {
   "cell_type": "markdown",
   "metadata": {},
   "source": [
    "## Reporting and Notifying!"
   ]
  },
  {
   "cell_type": "markdown",
   "metadata": {},
   "source": [
    "Creating SNS topic"
   ]
  },
  {
   "cell_type": "code",
   "execution_count": null,
   "metadata": {},
   "outputs": [],
   "source": [
    "# Create boto3 client to SNS\n",
    "sns = boto3.client('sns',\n",
    "                   region_name='us-east-1',\n",
    "                   aws_access_key_id=AWS_KEY_ID,\n",
    "                   aws_secret_access_key=AWS_SECRET)\n",
    "\n",
    "# Create a Topic. Returns API response\n",
    "response = sns.create_topic(Name='city_alerts')\n",
    "\n",
    "# Print topic 'id'\n",
    "print(response['TopicArn'])"
   ]
  },
  {
   "cell_type": "markdown",
   "metadata": {},
   "source": [
    "List Topics"
   ]
  },
  {
   "cell_type": "code",
   "execution_count": null,
   "metadata": {},
   "outputs": [],
   "source": [
    "response = sns.list_topics()"
   ]
  },
  {
   "cell_type": "markdown",
   "metadata": {},
   "source": [
    "Delete Topic"
   ]
  },
  {
   "cell_type": "code",
   "execution_count": null,
   "metadata": {},
   "outputs": [],
   "source": [
    "sns.delete_topic(TopicArn='arn:aws:sns:us-east-1:43424235235234:city_alerts')"
   ]
  },
  {
   "cell_type": "markdown",
   "metadata": {},
   "source": [
    "Subscribe to a Topic"
   ]
  },
  {
   "cell_type": "code",
   "execution_count": null,
   "metadata": {},
   "outputs": [],
   "source": [
    "# Subscribe some cellphone to topic\n",
    "response = sns.subscribe(TopicArn='arn:aws:sns:us-east-1:43424235235234:city_alerts',\n",
    "                         Protocol='SMS',\n",
    "                         Endpoint='+13125551123')\n",
    "\n",
    "# Subscribe some email to topic\n",
    "response = sns.subscribe(TopicArn='arn:aws:sns:us-east-1:43424235235234:city_alerts',\n",
    "                         Protocol='email',\n",
    "                         Endpoint='something@gmail.com')"
   ]
  },
  {
   "cell_type": "markdown",
   "metadata": {},
   "source": [
    "List subscriptions by Topic"
   ]
  },
  {
   "cell_type": "code",
   "execution_count": null,
   "metadata": {},
   "outputs": [],
   "source": [
    "sns.list_subscriptions_by_topic(TopicArn='arn:aws:sns:us-east-1:43424235235234:city_alerts')"
   ]
  },
  {
   "cell_type": "markdown",
   "metadata": {},
   "source": [
    "List All subscriptions"
   ]
  },
  {
   "cell_type": "code",
   "execution_count": null,
   "metadata": {},
   "outputs": [],
   "source": [
    "sns.list_subscriptions()['Subscriptions']"
   ]
  },
  {
   "cell_type": "markdown",
   "metadata": {},
   "source": [
    "UnSubscribe to a topic"
   ]
  },
  {
   "cell_type": "code",
   "execution_count": null,
   "metadata": {},
   "outputs": [],
   "source": [
    "sns.unsubscribe(SubscriptionArn='arn:aws:sns:us-east-1:43424235235234:city_alerts:9fea12d213ad14ae')"
   ]
  },
  {
   "cell_type": "markdown",
   "metadata": {},
   "source": [
    "Publish a menssage to Topic"
   ]
  },
  {
   "cell_type": "code",
   "execution_count": null,
   "metadata": {},
   "outputs": [],
   "source": [
    "sns.publish(TopicArn='arn:aws:sns:us-east-1:43424235235234:city_alerts',\n",
    "            Message='Body text of SMS or Email',\n",
    "            Subject='Subject Line for Email')\n",
    "\n",
    "# Custom messages\n",
    "n_reports = 134\n",
    "sns.publish(TopicArn='arn:aws:sns:us-east-1:43424235235234:city_alerts',\n",
    "            Message='There are {} reports outstanding'.format(n_reports),\n",
    "            Subject='Subject Line for Email')"
   ]
  },
  {
   "cell_type": "markdown",
   "metadata": {},
   "source": [
    "Sending a simple SMS message without Topics or Subscribers (This is not good in the long run)"
   ]
  },
  {
   "cell_type": "code",
   "execution_count": null,
   "metadata": {},
   "outputs": [],
   "source": [
    "sns.publish(PhoneNumber='+121332312514',\n",
    "            Message='Body of text of SMS')"
   ]
  },
  {
   "cell_type": "markdown",
   "metadata": {},
   "source": [
    "Case Building notification System"
   ]
  },
  {
   "cell_type": "code",
   "execution_count": null,
   "metadata": {},
   "outputs": [],
   "source": [
    "# Topic Setup\n",
    "sns = boto3.client('sns',\n",
    "                   region_name='us-east-1',\n",
    "                   aws_access_key_id=AWS_KEY_ID,\n",
    "                   aws_secret_access_key=AWS_SECRET)\n",
    "\n",
    "# Create Topics\n",
    "trash_arn = sns.create_topic(Name='trash_notifications')['TopicArn']\n",
    "streets_arn = sns.create_topic(Name='street_notification')['TopicArn']\n",
    "\n",
    "# Subscribe Users to Topics\n",
    "contacts = pd.read_csv('http://gig-staging.contacts.csv') # File stored in S3\n",
    "\n",
    "# Create Function to help with subscribing\n",
    "def subscribe_user(user_row):\n",
    "    if user_row['Department'] == 'trash':\n",
    "        # SMS \n",
    "        sns.subscribe(TopicArn=trash_arn,\n",
    "                      Protocol='sms',\n",
    "                      Endpoint=str(user_row['Phone']))\n",
    "        # Email\n",
    "        sns.subscribe(TopicArn=trash_arn,\n",
    "                      Protocol='email',\n",
    "                      Endpoint=user_row['Email'])\n",
    "\n",
    "    else:\n",
    "         # SMS \n",
    "        sns.subscribe(TopicArn=streets_arn,\n",
    "                      Protocol='sms',\n",
    "                      Endpoint=str(user_row['Phone']))\n",
    "        # Email\n",
    "        sns.subscribe(TopicArn=streets_arn,\n",
    "                      Protocol='email',\n",
    "                      Endpoint=user_row['Email'])\n",
    "\n",
    "# Applying function to users dataframe\n",
    "contacts.apply(subscribe_user, axis=1)\n",
    "\n",
    "# Getting aggregate dataframe \n",
    "df = pd.read_csv('http://gig-reports.2019/feb/final_reports.csv')\n",
    "df.set_index('service_name', inplace=True)\n",
    "\n",
    "trash_violations_count = df.at['Illegal Dumping','count']\n",
    "streets_violations_count = df.at['Pothole','count']\n",
    "\n",
    "# Send Alerts\n",
    "if trash_violations_count > 100:\n",
    "    message = 'Trash violations count is now {}'.format(trash_violations_count)\n",
    "    sns.publish(TopicArn=trash_arn,\n",
    "                Message=message,\n",
    "                Subject='Trash Alert')\n",
    "\n",
    "if streets_violations_count > 100:\n",
    "    message = 'Street violations count is now {}'.format(streets_violations_count)\n",
    "    sns.publish(TopicArn=streets_arn,\n",
    "                Message=message,\n",
    "                Subject='Street Alert')\n"
   ]
  }
 ],
 "metadata": {
  "kernelspec": {
   "display_name": "Python 3.8.8 ('base')",
   "language": "python",
   "name": "python3"
  },
  "language_info": {
   "codemirror_mode": {
    "name": "ipython",
    "version": 3
   },
   "file_extension": ".py",
   "mimetype": "text/x-python",
   "name": "python",
   "nbconvert_exporter": "python",
   "pygments_lexer": "ipython3",
   "version": "3.8.8"
  },
  "orig_nbformat": 4,
  "vscode": {
   "interpreter": {
    "hash": "2a9c283881288bc8345488d89afcea2916cc52ed9130ad0e473a7427fa4f195f"
   }
  }
 },
 "nbformat": 4,
 "nbformat_minor": 2
}
