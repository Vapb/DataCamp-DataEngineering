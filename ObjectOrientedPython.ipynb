{
 "cells": [
  {
   "cell_type": "markdown",
   "metadata": {},
   "source": [
    "### OOP Fundamentals"
   ]
  },
  {
   "cell_type": "code",
   "execution_count": 5,
   "metadata": {},
   "outputs": [
    {
     "name": "stdout",
     "output_type": "stream",
     "text": [
      "Korel Rossi\n",
      "50000\n",
      "4166.666666666667\n"
     ]
    }
   ],
   "source": [
    "class Employee:\n",
    "    def set_name(self, new_name):\n",
    "        self.name = new_name\n",
    "\n",
    "    def set_salary(self, new_salary):\n",
    "        self.salary = new_salary \n",
    "\n",
    "    def give_raise(self, amount):\n",
    "        self.salary = self.salary + amount\n",
    "\n",
    "    # Add monthly_salary method that returns 1/12th of salary attribute\n",
    "    def monthly_salary(self):\n",
    "        return (self.salary)/12\n",
    "\n",
    "    \n",
    "emp = Employee()\n",
    "emp.set_name('Korel Rossi')\n",
    "emp.set_salary(50000)\n",
    "mon_sal = emp.monthly_salary()\n",
    "print(emp.name)\n",
    "print(emp.salary)\n",
    "print(mon_sal)"
   ]
  },
  {
   "cell_type": "markdown",
   "metadata": {},
   "source": [
    "Constructor"
   ]
  },
  {
   "cell_type": "code",
   "execution_count": 6,
   "metadata": {},
   "outputs": [
    {
     "name": "stdout",
     "output_type": "stream",
     "text": [
      "Invalid salary!\n",
      "Korel Rossi\n",
      "0\n"
     ]
    }
   ],
   "source": [
    "# Import datetime from datetime\n",
    "from datetime import datetime \n",
    "\n",
    "class Employee:\n",
    "    \n",
    "    def __init__(self, name, salary=0):\n",
    "        self.name = name\n",
    "        if salary > 0:\n",
    "          self.salary = salary\n",
    "        else:\n",
    "          self.salary = 0\n",
    "          print(\"Invalid salary!\")\n",
    "          \n",
    "        # Add the hire_date attribute and set it to today's date\n",
    "        self.hire_date = datetime.today()\n",
    "        \n",
    "   # ...Other methods omitted for brevity ...\n",
    "      \n",
    "emp = Employee(\"Korel Rossi\", -1000)\n",
    "print(emp.name)\n",
    "print(emp.salary)"
   ]
  },
  {
   "cell_type": "markdown",
   "metadata": {},
   "source": [
    "### Inheritance and Polymorphism"
   ]
  },
  {
   "cell_type": "markdown",
   "metadata": {},
   "source": [
    "Alternative constructors (We only have one __init__ function)"
   ]
  },
  {
   "cell_type": "code",
   "execution_count": 8,
   "metadata": {},
   "outputs": [
    {
     "name": "stdout",
     "output_type": "stream",
     "text": [
      "2022\n",
      "5\n",
      "30\n"
     ]
    }
   ],
   "source": [
    "# import datetime from datetime\n",
    "from datetime import datetime\n",
    "\n",
    "class BetterDate:\n",
    "    def __init__(self, year, month, day):\n",
    "      self.year, self.month, self.day = year, month, day\n",
    "      \n",
    "    @classmethod\n",
    "    def from_str(cls, datestr):\n",
    "        year, month, day = map(int, datestr.split(\"-\"))\n",
    "        return cls(year, month, day)\n",
    "      \n",
    "    # Define a class method from_datetime accepting a datetime object\n",
    "    @classmethod\n",
    "    def from_datetime(cls, date_obj):\n",
    "      year, month, day = date_obj.year, date_obj.month, date_obj.day\n",
    "      return cls(year, month, day)\n",
    "\n",
    "# You should be able to run the code below with no errors: \n",
    "today = datetime.today()     \n",
    "bd = BetterDate.from_datetime(today)   \n",
    "print(bd.year)\n",
    "print(bd.month)\n",
    "print(bd.day)"
   ]
  },
  {
   "cell_type": "markdown",
   "metadata": {},
   "source": [
    "inheritance "
   ]
  },
  {
   "cell_type": "code",
   "execution_count": null,
   "metadata": {},
   "outputs": [],
   "source": [
    "class Employee:\n",
    "  MIN_SALARY = 30000    \n",
    "\n",
    "  def __init__(self, name, salary=MIN_SALARY):\n",
    "      self.name = name\n",
    "      if salary >= Employee.MIN_SALARY:\n",
    "        self.salary = salary\n",
    "      else:\n",
    "        self.salary = Employee.MIN_SALARY\n",
    "  def give_raise(self, amount):\n",
    "    self.salary += amount      \n",
    "        \n",
    "# MODIFY Manager class and add a display method\n",
    "class Manager(Employee):\n",
    "  def display(self):\n",
    "    print(\"Manager {}\".format(self.name))\n",
    "\n",
    "mng = Manager(\"Debbie Lashko\", 86500)\n",
    "print(mng.name)\n",
    "\n",
    "# Call mng.display()\n",
    "mng.display()"
   ]
  },
  {
   "cell_type": "markdown",
   "metadata": {},
   "source": [
    "### Integrating with Standard Python"
   ]
  },
  {
   "cell_type": "markdown",
   "metadata": {},
   "source": [
    "### Best Practices of Class Design"
   ]
  }
 ],
 "metadata": {
  "interpreter": {
   "hash": "2a9c283881288bc8345488d89afcea2916cc52ed9130ad0e473a7427fa4f195f"
  },
  "kernelspec": {
   "display_name": "Python 3.8.8 ('base')",
   "language": "python",
   "name": "python3"
  },
  "language_info": {
   "codemirror_mode": {
    "name": "ipython",
    "version": 3
   },
   "file_extension": ".py",
   "mimetype": "text/x-python",
   "name": "python",
   "nbconvert_exporter": "python",
   "pygments_lexer": "ipython3",
   "version": "3.8.8"
  },
  "orig_nbformat": 4
 },
 "nbformat": 4,
 "nbformat_minor": 2
}
