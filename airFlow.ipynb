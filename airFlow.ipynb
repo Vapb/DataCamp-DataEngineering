{
 "cells": [
  {
   "cell_type": "code",
   "execution_count": null,
   "metadata": {},
   "outputs": [],
   "source": [
    "from airflow.models import DAG\n",
    "from datetime import datetime"
   ]
  },
  {
   "cell_type": "code",
   "execution_count": null,
   "metadata": {},
   "outputs": [],
   "source": [
    "default_arguments = {\n",
    "    'owner': 'jdoe',\n",
    "    'email': 'jdoe@datacamp.com',\n",
    "    'start_date': datetime(2020,1,20) # Represents the earliest date that a DAG could run\n",
    "}\n",
    "\n",
    "etl_dag = DAG(\n",
    "    dag_id='etl_workflow',\n",
    "    default_args=default_arguments\n",
    ")"
   ]
  },
  {
   "cell_type": "markdown",
   "metadata": {},
   "source": [
    "BashOperator"
   ]
  },
  {
   "cell_type": "code",
   "execution_count": null,
   "metadata": {},
   "outputs": [],
   "source": [
    "from airflow.operators.bash_operator import BashOperator\n",
    "\n",
    "example_task = BashOperator(\n",
    "    task_id='bash_example',\n",
    "    bash_operator='echo \"Example\"',\n",
    "    dag=ml_dag # The dag it belogns to\n",
    ")\n",
    "\n",
    "bash_task = BashOperator(\n",
    "    task_id= 'clean_addresses',\n",
    "    bash_operator='cat addresses.tx | awk \"NF==10\" > cleaned.txt',\n",
    "    dag=dag\n",
    ")\n",
    "\n",
    "BashOperator(\n",
    "    task_id='bash_script_example',\n",
    "    bash_operator='runcleanup.sh',\n",
    "    dag=ml_dag\n",
    ")"
   ]
  },
  {
   "cell_type": "markdown",
   "metadata": {},
   "source": [
    "Task Dependency"
   ]
  },
  {
   "cell_type": "code",
   "execution_count": null,
   "metadata": {},
   "outputs": [],
   "source": [
    "task1 = BashOperator(\n",
    "    task_id='first_task',\n",
    "    bash_command='echo 1',\n",
    "    dag=example_dag\n",
    ")\n",
    "\n",
    "task2 = BashOperator(\n",
    "    task_id='second_task',\n",
    "    bash_command='echo 2',\n",
    "    dag=example_dag\n",
    ")\n",
    "\n",
    "# Set first_task to run before second_task\n",
    "task1 >> task2 # or task2 << task1"
   ]
  },
  {
   "cell_type": "markdown",
   "metadata": {},
   "source": [
    "PythonOperator"
   ]
  },
  {
   "cell_type": "code",
   "execution_count": null,
   "metadata": {},
   "outputs": [],
   "source": [
    "from airflow.operators.python_operator import PythonOperator\n",
    "\n",
    "def printme():\n",
    "    print('this goes in the logs!')\n",
    "\n",
    "python_task = PythonOperator(\n",
    "    task_id='simple_print',\n",
    "    python_callable=printme,\n",
    "    dag=example_dag\n",
    ")\n",
    "\n",
    "def sleep(length_of_time):\n",
    "    time.sleep(length_of_time)\n",
    "\n",
    "sleep_task = PythonOperator(\n",
    "    task_id='sleep',\n",
    "    python_callable=sleep,\n",
    "    op_kwargs={'length_of_time':5}\n",
    "    dag=example_dag\n",
    ")"
   ]
  },
  {
   "cell_type": "markdown",
   "metadata": {},
   "source": [
    "EmailOperator"
   ]
  },
  {
   "cell_type": "code",
   "execution_count": null,
   "metadata": {},
   "outputs": [],
   "source": [
    "from airflow.operators.email_operator import EmailOperator\n",
    "\n",
    "email_task = EmailOperator(\n",
    "    task_id='email_sales_report',\n",
    "    to='sales_manager@example.com',\n",
    "    subject='Automated Sales Rport',\n",
    "    html_content='Attached is the latest sales report',\n",
    "    files='latest_sales.xlsx',\n",
    "    dag=example_dag\n",
    ")\n"
   ]
  }
 ],
 "metadata": {
  "kernelspec": {
   "display_name": "Python 3.8.8 ('base')",
   "language": "python",
   "name": "python3"
  },
  "language_info": {
   "name": "python",
   "version": "3.8.8"
  },
  "orig_nbformat": 4,
  "vscode": {
   "interpreter": {
    "hash": "2a9c283881288bc8345488d89afcea2916cc52ed9130ad0e473a7427fa4f195f"
   }
  }
 },
 "nbformat": 4,
 "nbformat_minor": 2
}
