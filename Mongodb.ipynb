{
 "cells": [
  {
   "cell_type": "code",
   "execution_count": null,
   "metadata": {},
   "outputs": [],
   "source": [
    "from pymongo import MongoClient"
   ]
  },
  {
   "cell_type": "markdown",
   "metadata": {},
   "source": [
    "## Flexibly Structured Data"
   ]
  },
  {
   "cell_type": "markdown",
   "metadata": {},
   "source": [
    "Creating MongoDb"
   ]
  },
  {
   "cell_type": "code",
   "execution_count": null,
   "metadata": {},
   "outputs": [],
   "source": [
    "# Client connects to localhost by default\n",
    "client = MongoClient()\n",
    "\n",
    "# Create local 'Nobel' database on the fly\n",
    "db = client['nobel']\n",
    "\n",
    "documents = response.json()['collection_name']\n",
    "\n",
    "# Create collections on the fly\n",
    "db['collection_name'].insert_many(documents)"
   ]
  },
  {
   "cell_type": "markdown",
   "metadata": {},
   "source": [
    "Accessing data from mongodb"
   ]
  },
  {
   "cell_type": "code",
   "execution_count": null,
   "metadata": {},
   "outputs": [],
   "source": [
    "# One way access data from databaase as dictionareis\n",
    "# Client is a dictionary of databases\n",
    "db = client['nobel']\n",
    "\n",
    "# database is a dictionary of collections\n",
    "prizes_colection = db['prizes']\n",
    "\n",
    "# Other way is dot notation\n",
    "# Databases are an atribute of client\n",
    "db = client.nobel\n",
    "\n",
    "# collections are an atribute of database\n",
    "prizes_colection = db.prizes"
   ]
  },
  {
   "cell_type": "markdown",
   "metadata": {},
   "source": [
    "Count Documents"
   ]
  },
  {
   "cell_type": "code",
   "execution_count": null,
   "metadata": {},
   "outputs": [],
   "source": [
    "# Use empty document as filter\n",
    "filter = {}\n",
    "\n",
    "# Count documents in a collection\n",
    "n_prizes = db.prizes.count_documents(filter)\n",
    "n_laureates = db.laureates.count_documents(filter)"
   ]
  },
  {
   "cell_type": "markdown",
   "metadata": {},
   "source": [
    "Fetch documents"
   ]
  },
  {
   "cell_type": "code",
   "execution_count": null,
   "metadata": {},
   "outputs": [],
   "source": [
    "# List all databases managed by client\n",
    "client.list_database_names()\n",
    "\n",
    "# List all collections inside database\n",
    "db.list_collection_names()\n",
    "\n",
    "# Find one document to inspect\n",
    "db.prizes.find_one(filter)\n",
    "\n",
    "# Get all fields inside document\n",
    "db.prizes.find_one().keys()"
   ]
  },
  {
   "cell_type": "markdown",
   "metadata": {},
   "source": [
    "Find Documents"
   ]
  },
  {
   "cell_type": "code",
   "execution_count": null,
   "metadata": {},
   "outputs": [],
   "source": [
    "# Discover how many laureates are female\n",
    "filter_document = {'gender':'female'}\n",
    "db.laureates.count_documents(filter_document)\n",
    "\n",
    "# Query Operators \n",
    "\n",
    "# $in: <list>\n",
    "# Discover how many died in France OR USA\n",
    "filter_document = {'diedCountry' : {'$in': ['France','USA']}}\n",
    "db.laureates.count_documents(filter_document)\n",
    "\n",
    "# $ne: <value> Not equal\n",
    "filter_document = {'diedCountry' : {'$ne': 'France'}}\n",
    "db.laureates.count_documents(filter_document)\n",
    "\n",
    "# $gt: <value> greater than \n",
    "# $gte: <value> greater than and equal\n",
    "# $lt: <value> less than\n",
    "# $lte: <value> less than and equal\n",
    "filter_document = {'diedCountry' : {'$gt': 'USA' , '$lte' : 'Belgium'}}\n",
    "db.laureates.count_documents(filter_document)\n",
    "\n",
    "\n",
    "# Example\n",
    "# Save a filter for laureates who died in the USA and were not born there\n",
    "criteria = { 'diedCountry': 'USA',\n",
    "             'bornCountry': { \"$ne\": 'USA'}, \n",
    "             }\n",
    "count = db.laureates.count_documents(criteria)\n",
    "print(count)"
   ]
  },
  {
   "cell_type": "markdown",
   "metadata": {},
   "source": [
    "Dot notation: reach into substructure"
   ]
  },
  {
   "cell_type": "code",
   "execution_count": null,
   "metadata": {},
   "outputs": [],
   "source": [
    "# dot notation lets you work in density\n",
    "criteria = {'prizes.affiliations.name' : ('University of California')}\n",
    "db.laureates.count_documents(criteria)"
   ]
  },
  {
   "cell_type": "markdown",
   "metadata": {},
   "source": [
    "Some fields in mongoDb doesnt have to be present"
   ]
  },
  {
   "cell_type": "code",
   "execution_count": null,
   "metadata": {},
   "outputs": [],
   "source": [
    "# Check all laureates that dont have bornCountry\n",
    "criteria = {'bornCountry' : {'$exists' : False}}\n",
    "db.laureates.count_documents(criteria)\n",
    "\n",
    "# Check all laureates that have more than one prize\n",
    "criteria = {'prizes.1' : {'$exists' : True}}\n",
    "db.laureates.count_documents(criteria)"
   ]
  },
  {
   "cell_type": "markdown",
   "metadata": {},
   "source": [
    "## Working with Distinct Values and Sets"
   ]
  },
  {
   "cell_type": "markdown",
   "metadata": {},
   "source": [
    "Find distinct values of one field in a document"
   ]
  },
  {
   "cell_type": "code",
   "execution_count": null,
   "metadata": {},
   "outputs": [],
   "source": [
    "# Find distinct values in gender\n",
    "db.laureates.distinct('gender')\n",
    "\n",
    "# Example with dot notation\n",
    "db.laureates.distinct('prizes.category')"
   ]
  },
  {
   "cell_type": "markdown",
   "metadata": {},
   "source": [
    "Find distinct with filter"
   ]
  },
  {
   "cell_type": "code",
   "execution_count": null,
   "metadata": {},
   "outputs": [],
   "source": [
    "# Find distinct categories that have shared the prize with 4 laureates\n",
    "db.laureates.distinct('prizes.category', {'prizes.share' : '4'})\n",
    "\n",
    "# Find categories that laureates won more than one prize\n",
    "db.laureates.distinct('prizes.category', {'prizes.1' : {'$exists' : True}})\n",
    "\n",
    "# Find countries that have \n",
    "db.laureates.distinct('prizes.affiliations.country', {'bornCountry': 'USA'})"
   ]
  },
  {
   "cell_type": "markdown",
   "metadata": {},
   "source": [
    "Element Match"
   ]
  },
  {
   "cell_type": "code",
   "execution_count": null,
   "metadata": {},
   "outputs": [],
   "source": [
    "#The $elemMatch operator matches documents that contain an array field with at least one element that matches all the specified query criteria.\n",
    "db.laureates.count_documents({\n",
    "    'prizes' : {'$elemMatch':\n",
    "    {'category': 'physics', 'share': '1'}}})"
   ]
  },
  {
   "cell_type": "code",
   "execution_count": null,
   "metadata": {},
   "outputs": [],
   "source": [
    "# Save a filter for laureates with unshared prizes\n",
    "unshared = {\n",
    "    \"prizes\": {\"$elemMatch\": {\n",
    "        \"category\": {\"$nin\": [\"physics\", \"chemistry\", \"medicine\"]},\n",
    "        \"share\": \"1\",\n",
    "        \"year\": {\"$gte\": \"1945\"},\n",
    "    }}}\n",
    "\n",
    "# Save a filter for laureates with shared prizes\n",
    "shared = {\n",
    "    \"prizes\": {\"$elemMatch\": {\n",
    "        \"category\": {\"$nin\": [\"physics\", \"chemistry\", \"medicine\"]},\n",
    "        \"share\": {\"$ne\": \"1\"},\n",
    "        \"year\": {\"$gte\": \"1945\"},\n",
    "    }}}\n",
    "\n",
    "ratio = db.laureates.count_documents(unshared) / db.laureates.count_documents(shared)\n",
    "print(ratio)"
   ]
  },
  {
   "cell_type": "markdown",
   "metadata": {},
   "source": [
    "Regex"
   ]
  },
  {
   "cell_type": "code",
   "execution_count": null,
   "metadata": {},
   "outputs": [],
   "source": [
    "from bson.regex import Regex\n",
    "\n",
    "db.laureates.count_documents('bornCountry' , {'bornCountry' : {'$regex' : 'poland', '$options' : 'i'}})\n",
    "db.laureates.count_documents('bornCountry' , {'bornCountry' : Regex('^Poland \\(now')})"
   ]
  },
  {
   "cell_type": "markdown",
   "metadata": {},
   "source": [
    "## Get Only What You Need, and Fast"
   ]
  },
  {
   "cell_type": "markdown",
   "metadata": {},
   "source": [
    "Projection"
   ]
  },
  {
   "cell_type": "code",
   "execution_count": null,
   "metadata": {},
   "outputs": [],
   "source": [
    "# Include fields with 1 and exclude with 0\n",
    "docs = db.laureates.find(\n",
    "    filter={},\n",
    "    projection={'prizes.affilitions':1,\n",
    "                '_id':0})\n",
    "\n",
    "print(list(docs))\n",
    "\n",
    "# Using list\n",
    "docs = db.laureates.find(\n",
    "    filter={'gender':'org'},\n",
    "    projection=['firstname','bornCountry'])"
   ]
  },
  {
   "cell_type": "code",
   "execution_count": null,
   "metadata": {},
   "outputs": [],
   "source": [
    "# Use projection to select only firstname and surname\n",
    "docs = db.laureates.find(\n",
    "       filter= {\"firstname\" : {\"$regex\" : \"^G\"},\n",
    "                \"surname\" : {\"$regex\" : \"^S\"}  },\n",
    "   projection= [\"firstname\", \"surname\"]  )\n",
    "\n",
    "# Iterate over docs and concatenate first name and surname\n",
    "full_names = [doc[\"firstname\"] + \" \" + doc[\"surname\"]  for doc in docs]\n",
    "\n",
    "# Print the full names\n",
    "print(full_names)"
   ]
  },
  {
   "cell_type": "markdown",
   "metadata": {},
   "source": [
    "Sorting"
   ]
  },
  {
   "cell_type": "code",
   "execution_count": null,
   "metadata": {},
   "outputs": [],
   "source": [
    "from operator import itemgetter\n",
    "\n",
    "docs = list(db.prizes.find({'category':'physics'},['year']))\n",
    "docs = sorted(docs, key=itemgetter('year'))\n",
    "print([doc['year'] for doc in docs])\n",
    "\n",
    "# Or sorting in server side\n",
    "docs = db.prizes.find({'category':'physics'},['year'], sort=[('year',1)]) # Descing order use -1\n",
    "print([doc['year'] for doc in docs])\n",
    "\n",
    "# Sort multiple fields\n",
    "docs = db.prizes.find({'category':'physics'},['category','year'], sort=[('year',1), ('category',-1)]) \n",
    "print([doc['year'] for doc in docs])"
   ]
  },
  {
   "cell_type": "markdown",
   "metadata": {},
   "source": [
    "Indexing"
   ]
  },
  {
   "cell_type": "code",
   "execution_count": null,
   "metadata": {},
   "outputs": [],
   "source": [
    "# Create index on year in acs order\n",
    "db.prizes.create_index([('year', 1)])\n",
    "\n",
    "# Example\n",
    "# Specify an index model for compound sorting\n",
    "index_model = [('category', 1), ('year', -1)]\n",
    "db.prizes.create_index(index_model)\n",
    "\n",
    "# Collect the last single-laureate year for each category\n",
    "report = \"\"\n",
    "for category in sorted(db.prizes.distinct(\"category\")):\n",
    "    doc = db.prizes.find_one(\n",
    "        {'category': category, \"laureates.share\": \"1\"},\n",
    "        sort=[('year', -1)]\n",
    "    )\n",
    "    report += \"{category}: {year}\\n\".format(**doc)\n",
    "\n",
    "print(report)"
   ]
  },
  {
   "cell_type": "markdown",
   "metadata": {},
   "source": [
    "Limits"
   ]
  },
  {
   "cell_type": "code",
   "execution_count": null,
   "metadata": {},
   "outputs": [],
   "source": [
    "# Limit only 3 rows\n",
    "db.prizes.find({'laureates.share' : '3'}, limit=3)\n",
    "\n",
    "# Limit 3 rows and skip the first 3 rows\n",
    "db.prizes.find({'laureates.share' : '3'}, limit=3, skip=3)\n",
    "\n",
    "# Chain commands\n",
    "db.prizes.find({'laureates.share' : '3'}).sort([('year',1)]).limit(3)"
   ]
  },
  {
   "cell_type": "markdown",
   "metadata": {},
   "source": [
    "## Aggregation Pipelines: Let the Server Do It For You"
   ]
  },
  {
   "cell_type": "markdown",
   "metadata": {},
   "source": [
    "Aggregation Examples"
   ]
  },
  {
   "cell_type": "code",
   "execution_count": null,
   "metadata": {},
   "outputs": [],
   "source": [
    "# Same result but with aggregation\n",
    "cursor = db.laureates.find(\n",
    "    filter={'bornCountry': 'USA'},\n",
    "    projection={'prizes.year':1},\n",
    "    limit=3\n",
    ")\n",
    "\n",
    "cursor = db.laureates.aggregate([\n",
    "    {'$match' : {'bornCountry': 'USA'}},\n",
    "    {'$project' : {'prizes.year': 1}},\n",
    "    {'$limit' : 3}\n",
    "])"
   ]
  },
  {
   "cell_type": "markdown",
   "metadata": {},
   "source": [
    "Count aggregation"
   ]
  },
  {
   "cell_type": "code",
   "execution_count": null,
   "metadata": {},
   "outputs": [],
   "source": [
    "db.laureates.aggregation([\n",
    "    {'$match' : {'bornCountry': 'USA'}},\n",
    "    {'$count' : 'n_USA-born-laureates'}\n",
    "])"
   ]
  },
  {
   "cell_type": "markdown",
   "metadata": {},
   "source": []
  },
  {
   "cell_type": "code",
   "execution_count": null,
   "metadata": {},
   "outputs": [],
   "source": [
    "# Return a list with true when prizeshare == 1\n",
    "db.laureates.aggregate([\n",
    "    {\"$project\" : {'solo_winner' : {'$in' : ['1', '$prizes.share']}}}\n",
    "])"
   ]
  },
  {
   "cell_type": "markdown",
   "metadata": {},
   "source": [
    "GroupBy"
   ]
  },
  {
   "cell_type": "code",
   "execution_count": null,
   "metadata": {},
   "outputs": [],
   "source": [
    "# Same as distinct\n",
    "db.laureates.aggregate([\n",
    "    {'$group' : {'_id' : 'bornCountry'}}\n",
    "])\n",
    "\n",
    "# Get the sum of total prizes\n",
    "db.laureates.aggregate([\n",
    "    {\"$project\": {\"n_prizes\": {\"$size\": \"$prizes\"}}},\n",
    "    {\"$group\": {\"_id\" : None, \"n_prizes_total\" : {'$sum' : '$n_prizes'}}}\n",
    "])"
   ]
  },
  {
   "cell_type": "code",
   "execution_count": null,
   "metadata": {},
   "outputs": [],
   "source": [
    "# Count prizes awarded (at least partly) to organizations as a sum over sizes of \"prizes\" arrays.\n",
    "pipeline = [\n",
    "    {'$match': {'gender': \"org\"}},\n",
    "    {\"$project\": {\"n_prizes\": {\"$size\": '$prizes'}}},\n",
    "    {\"$group\": {\"_id\": None, \"n_prizes_total\": {\"$sum\": '$n_prizes'}}}\n",
    "]\n",
    "\n",
    "print(list(db.laureates.aggregate(pipeline)))"
   ]
  },
  {
   "cell_type": "code",
   "execution_count": null,
   "metadata": {},
   "outputs": [],
   "source": [
    "from collections import OrderedDict\n",
    "\n",
    "original_categories = sorted(set(db.prizes.distinct(\"category\", {\"year\": \"1901\"})))\n",
    "pipeline = [\n",
    "    {\"$match\": {\"category\": {\"$in\": original_categories}}},\n",
    "    {\"$project\": {\"category\": 1, \"year\": 1}},\n",
    "    \n",
    "    # Collect the set of category values for each prize year.\n",
    "    {\"$group\": {\"_id\": \"$year\", \"categories\": {\"$addToSet\": \"$category\"}}},\n",
    "    \n",
    "    # Project categories *not* awarded (i.e., that are missing this year).\n",
    "    {\"$project\": {\"missing\": {\"$setDifference\": [original_categories, \"$categories\"]}}},\n",
    "    \n",
    "    # Only include years with at least one missing category\n",
    "    {\"$match\": {\"missing.0\": {\"$exists\": True}}},\n",
    "    \n",
    "    # Sort in reverse chronological order. Note that \"_id\" is a distinct year at this stage.\n",
    "    {\"$sort\": OrderedDict([(\"_id\", -1)])},\n",
    "]\n",
    "for doc in db.prizes.aggregate(pipeline):\n",
    "    print(\"{year}: {missing}\".format(year=doc[\"_id\"],missing=\", \".join(sorted(doc[\"missing\"]))))"
   ]
  },
  {
   "cell_type": "markdown",
   "metadata": {},
   "source": []
  }
 ],
 "metadata": {
  "kernelspec": {
   "display_name": "Python 3.8.8 ('base')",
   "language": "python",
   "name": "python3"
  },
  "language_info": {
   "name": "python",
   "version": "3.8.8"
  },
  "orig_nbformat": 4,
  "vscode": {
   "interpreter": {
    "hash": "2a9c283881288bc8345488d89afcea2916cc52ed9130ad0e473a7427fa4f195f"
   }
  }
 },
 "nbformat": 4,
 "nbformat_minor": 2
}
