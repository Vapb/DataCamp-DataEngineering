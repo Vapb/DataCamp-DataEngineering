{
 "cells": [
  {
   "cell_type": "code",
   "execution_count": null,
   "metadata": {},
   "outputs": [],
   "source": [
    "from pymongo import MongoClient"
   ]
  },
  {
   "cell_type": "markdown",
   "metadata": {},
   "source": [
    "Creating MongoDb"
   ]
  },
  {
   "cell_type": "code",
   "execution_count": null,
   "metadata": {},
   "outputs": [],
   "source": [
    "# Client connects to localhost by default\n",
    "client = MongoClient()\n",
    "\n",
    "# Create local 'Nobel' database on the fly\n",
    "db = client['nobel']\n",
    "\n",
    "documents = response.json()['collection_name']\n",
    "\n",
    "# Create collections on the fly\n",
    "db['collection_name'].insert_many(documents)"
   ]
  },
  {
   "cell_type": "markdown",
   "metadata": {},
   "source": [
    "Accessing data from mongodb"
   ]
  },
  {
   "cell_type": "code",
   "execution_count": null,
   "metadata": {},
   "outputs": [],
   "source": [
    "# One way access data from databaase as dictionareis\n",
    "# Client is a dictionary of databases\n",
    "db = client['nobel']\n",
    "\n",
    "# database is a dictionary of collections\n",
    "prizes_colection = db['prizes']\n",
    "\n",
    "# Other way is dot notation\n",
    "# Databases are an atribute of client\n",
    "db = client.nobel\n",
    "\n",
    "# collections are an atribute of database\n",
    "prizes_colection = db.prizes"
   ]
  },
  {
   "cell_type": "markdown",
   "metadata": {},
   "source": [
    "Count Documents"
   ]
  },
  {
   "cell_type": "code",
   "execution_count": null,
   "metadata": {},
   "outputs": [],
   "source": [
    "# Use empty document as filter\n",
    "filter = {}\n",
    "\n",
    "# Count documents in a collection\n",
    "n_prizes = db.prizes.count_documents(filter)\n",
    "n_laureates = db.laureates.count_documents(filter)"
   ]
  },
  {
   "cell_type": "markdown",
   "metadata": {},
   "source": [
    "Fetch documents"
   ]
  },
  {
   "cell_type": "code",
   "execution_count": null,
   "metadata": {},
   "outputs": [],
   "source": [
    "# List all databases managed by client\n",
    "client.list_database_names()\n",
    "\n",
    "# List all collections inside database\n",
    "db.list_collection_names()\n",
    "\n",
    "# Find one document to inspect\n",
    "db.prizes.find_one(filter)\n",
    "\n",
    "# Get all fields inside document\n",
    "db.prizes.find_one().keys()"
   ]
  },
  {
   "cell_type": "markdown",
   "metadata": {},
   "source": [
    "Find Documents"
   ]
  },
  {
   "cell_type": "code",
   "execution_count": null,
   "metadata": {},
   "outputs": [],
   "source": [
    "# Discover how many laureates are female\n",
    "filter_document = {'gender':'female'}\n",
    "db.laureates.count_documents(filter_document)\n",
    "\n",
    "# Query Operators \n",
    "\n",
    "# $in: <list>\n",
    "# Discover how many died in France OR USA\n",
    "filter_document = {'diedCountry' : {'$in': ['France','USA']}}\n",
    "db.laureates.count_documents(filter_document)\n",
    "\n",
    "# $ne: <value> Not equal\n",
    "filter_document = {'diedCountry' : {'$ne': 'France'}}\n",
    "db.laureates.count_documents(filter_document)\n",
    "\n",
    "# $gt: <value> greater than \n",
    "# $gte: <value> greater than and equal\n",
    "# $lt: <value> less than\n",
    "# $lte: <value> less than and equal\n",
    "filter_document = {'diedCountry' : {'$gt': 'USA' , '$lte' : 'Belgium'}}\n",
    "db.laureates.count_documents(filter_document)\n",
    "\n",
    "\n",
    "# Example\n",
    "# Save a filter for laureates who died in the USA and were not born there\n",
    "criteria = { 'diedCountry': 'USA',\n",
    "             'bornCountry': { \"$ne\": 'USA'}, \n",
    "             }\n",
    "count = db.laureates.count_documents(criteria)\n",
    "print(count)"
   ]
  },
  {
   "cell_type": "markdown",
   "metadata": {},
   "source": [
    "Dot notation: reach into substructure"
   ]
  },
  {
   "cell_type": "code",
   "execution_count": null,
   "metadata": {},
   "outputs": [],
   "source": [
    "# dot notation lets you work in density\n",
    "criteria = {'prizes.affiliations.name' : ('University of California')}\n",
    "db.laureates.count_documents(criteria)"
   ]
  },
  {
   "cell_type": "markdown",
   "metadata": {},
   "source": [
    "Some fields in mongoDb doesnt have to be present"
   ]
  },
  {
   "cell_type": "code",
   "execution_count": null,
   "metadata": {},
   "outputs": [],
   "source": [
    "# Check all laureates that dont have bornCountry\n",
    "criteria = {'bornCountry' : {'$exists' : False}}\n",
    "db.laureates.count_documents(criteria)\n",
    "\n",
    "# Check all laureates that have more than one prize\n",
    "criteria = {'prizes.1' : {'$exists' : True}}\n",
    "db.laureates.count_documents(criteria)"
   ]
  }
 ],
 "metadata": {
  "language_info": {
   "name": "python"
  },
  "orig_nbformat": 4
 },
 "nbformat": 4,
 "nbformat_minor": 2
}
