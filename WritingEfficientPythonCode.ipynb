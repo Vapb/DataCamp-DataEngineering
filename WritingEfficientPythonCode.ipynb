{
 "cells": [
  {
   "cell_type": "code",
   "execution_count": 1,
   "metadata": {},
   "outputs": [],
   "source": [
    "import pandas as pd\n",
    "import numpy as np\n",
    "import sys"
   ]
  },
  {
   "cell_type": "markdown",
   "metadata": {},
   "source": [
    "## Foundations for efficiencies"
   ]
  },
  {
   "cell_type": "markdown",
   "metadata": {},
   "source": [
    "Built-in functions"
   ]
  },
  {
   "cell_type": "code",
   "execution_count": 3,
   "metadata": {},
   "outputs": [
    {
     "name": "stdout",
     "output_type": "stream",
     "text": [
      "[0, 1, 2, 3, 4, 5]\n",
      "[1, 3, 5, 7, 9, 11]\n"
     ]
    }
   ],
   "source": [
    "# Range\n",
    "# Range from 0-5\n",
    "print(list(range(6)))\n",
    "\n",
    "# List of odd numbers from 1 to 11\n",
    "print([*range(1,12,2)])"
   ]
  },
  {
   "cell_type": "code",
   "execution_count": 5,
   "metadata": {},
   "outputs": [
    {
     "name": "stdout",
     "output_type": "stream",
     "text": [
      "[(0, 'Jerry'), (1, 'Kramer'), (2, 'Elaine'), (3, 'George'), (4, 'Newman')]\n",
      "[(0, 'Jerry'), (1, 'Kramer'), (2, 'Elaine'), (3, 'George'), (4, 'Newman')]\n",
      "[(1, 'Jerry'), (2, 'Kramer'), (3, 'Elaine'), (4, 'George'), (5, 'Newman')]\n"
     ]
    }
   ],
   "source": [
    "# Enumerate\n",
    "names = ['Jerry', 'Kramer', 'Elaine', 'George', 'Newman']\n",
    "indexed_names = []\n",
    "\n",
    "# Simple example\n",
    "for i,name in enumerate(names):\n",
    "    index_name = (i,name)\n",
    "    indexed_names.append(index_name) \n",
    "print(indexed_names)\n",
    "\n",
    "# List comprehension\n",
    "print([(i,name) for i,name in enumerate(names)])\n",
    "\n",
    "# list starting with one\n",
    "print([*enumerate(names, 1)])"
   ]
  },
  {
   "cell_type": "code",
   "execution_count": 8,
   "metadata": {},
   "outputs": [
    {
     "name": "stdout",
     "output_type": "stream",
     "text": [
      "['JERRY', 'KRAMER', 'ELAINE', 'GEORGE', 'NEWMAN']\n",
      "['a', 'b', 'c']\n"
     ]
    }
   ],
   "source": [
    "# Map\n",
    "names_map  = map(str.upper, names)\n",
    "print([*names_map])\n",
    "\n",
    "# Lambda\n",
    "print(list(map(lambda x: x.lower(), [\"A\", \"B\", \"C\"])))"
   ]
  },
  {
   "cell_type": "code",
   "execution_count": 14,
   "metadata": {},
   "outputs": [
    {
     "name": "stdout",
     "output_type": "stream",
     "text": [
      "int32\n",
      "[2 7]\n",
      "[ 7  8  9 10]\n",
      "[[ 2  3  4  5  6]\n",
      " [ 7  8  9 10 11]]\n"
     ]
    }
   ],
   "source": [
    "# Numpy\n",
    "nums = [[1, 2, 3, 4, 5],[6, 7, 8, 9, 10]]\n",
    "nums = np.array(nums)\n",
    "\n",
    "#Numpy array is faster than python List because of npArray homogenity (Same type)\n",
    "print(nums.dtype)\n",
    "\n",
    "#Numpy has special indexing\n",
    "# Example Print second row of nums\n",
    "print(nums[:,1])\n",
    "\n",
    "#Numpy array has boolean indexing\n",
    "# Example Print all values large then 6\n",
    "print(nums[nums > 6])\n",
    "\n",
    "#Numpy allow to do math operations easier\n",
    "print(nums + 1)"
   ]
  },
  {
   "cell_type": "markdown",
   "metadata": {},
   "source": [
    "## Timing and profiling code"
   ]
  },
  {
   "cell_type": "markdown",
   "metadata": {},
   "source": [
    "Comparer times with timeit"
   ]
  },
  {
   "cell_type": "code",
   "execution_count": 21,
   "metadata": {},
   "outputs": [
    {
     "name": "stdout",
     "output_type": "stream",
     "text": [
      "3.92 µs ± 688 ns per loop (mean ± std. dev. of 7 runs, 100000 loops each)\n",
      "1.12 µs ± 57.9 ns per loop (mean ± std. dev. of 7 runs, 1000000 loops each)\n"
     ]
    }
   ],
   "source": [
    "# Compare Unpack with Copr\n",
    "%timeit nums_list_comp = [num for num in range(51)]\n",
    "\n",
    "%timeit nums_list_unpack = [*range(51)]"
   ]
  },
  {
   "cell_type": "code",
   "execution_count": 30,
   "metadata": {},
   "outputs": [
    {
     "name": "stdout",
     "output_type": "stream",
     "text": [
      "[0, 2, 4, 6, 8, 10, 12, 14, 16, 18, 20, 22, 24, 26, 28, 30, 32, 34, 36, 38, 40, 42, 44, 46, 48, 50]\n",
      "[0, 2, 4, 6, 8, 10, 12, 14, 16, 18, 20, 22, 24, 26, 28, 30, 32, 34, 36, 38, 40, 42, 44, 46, 48, 50]\n",
      "[0, 2, 4, 6, 8, 10, 12, 14, 16, 18, 20, 22, 24, 26, 28, 30, 32, 34, 36, 38, 40, 42, 44, 46, 48, 50]\n",
      "[0, 2, 4, 6, 8, 10, 12, 14, 16, 18, 20, 22, 24, 26, 28, 30, 32, 34, 36, 38, 40, 42, 44, 46, 48, 50]\n",
      "[0, 2, 4, 6, 8, 10, 12, 14, 16, 18, 20, 22, 24, 26, 28, 30, 32, 34, 36, 38, 40, 42, 44, 46, 48, 50]\n",
      "The slowest run took 11.78 times longer than the fastest. This could mean that an intermediate result is being cached.\n",
      "70.4 µs ± 93.2 µs per loop (mean ± std. dev. of 5 runs, 1 loop each)\n"
     ]
    }
   ],
   "source": [
    "%%timeit -r5 -n1\n",
    "\n",
    "l = []\n",
    "for i in range(51):\n",
    "    if i % 2 == 0:\n",
    "        l.append(i)\n",
    "print(l)"
   ]
  },
  {
   "cell_type": "code",
   "execution_count": 20,
   "metadata": {},
   "outputs": [
    {
     "name": "stdout",
     "output_type": "stream",
     "text": [
      "902 ns ± 98.8 ns per loop (mean ± std. dev. of 5 runs, 25 loops each)\n"
     ]
    }
   ],
   "source": [
    "# Specify runTimes and Loops\n",
    "heroes = ['A','B','C','D','E','F']\n",
    "%timeit -r5 -n25 set(heroes)"
   ]
  },
  {
   "cell_type": "markdown",
   "metadata": {},
   "source": [
    "Profiling Using Python line_profiling (Remember to PIP)"
   ]
  },
  {
   "cell_type": "code",
   "execution_count": 22,
   "metadata": {},
   "outputs": [],
   "source": [
    "%load_ext line_profiler"
   ]
  },
  {
   "cell_type": "code",
   "execution_count": 24,
   "metadata": {},
   "outputs": [],
   "source": [
    "# Random Function\n",
    "def convert_units(heroes, heights, weights):\n",
    "\n",
    "    new_hts = [ht * 0.39370  for ht in heights]\n",
    "    new_wts = [wt * 2.20462  for wt in weights]\n",
    "\n",
    "    hero_data = {}\n",
    "\n",
    "    for i,hero in enumerate(heroes):\n",
    "        hero_data[hero] = (new_hts[i], new_wts[i])\n",
    "\n",
    "    return hero_data\n",
    "\n",
    "heroes = ['A', 'B', 'C']\n",
    "heights = [1.7, 1.8, 1.9]\n",
    "weights = [80, 87, 130]"
   ]
  },
  {
   "cell_type": "code",
   "execution_count": 25,
   "metadata": {},
   "outputs": [
    {
     "name": "stdout",
     "output_type": "stream",
     "text": [
      "Timer unit: 1e-07 s\n",
      "\n",
      "Total time: 3.14e-05 s\n",
      "File: <ipython-input-24-36b8cb35486a>\n",
      "Function: convert_units at line 2\n",
      "\n",
      "Line #      Hits         Time  Per Hit   % Time  Line Contents\n",
      "==============================================================\n",
      "     2                                           def convert_units(heroes, heights, weights):\n",
      "     3                                           \n",
      "     4         1        102.0    102.0     32.5      new_hts = [ht * 0.39370  for ht in heights]\n",
      "     5         1         69.0     69.0     22.0      new_wts = [wt * 2.20462  for wt in weights]\n",
      "     6                                           \n",
      "     7         1         11.0     11.0      3.5      hero_data = {}\n",
      "     8                                           \n",
      "     9         4         75.0     18.8     23.9      for i,hero in enumerate(heroes):\n",
      "    10         3         49.0     16.3     15.6          hero_data[hero] = (new_hts[i], new_wts[i])\n",
      "    11                                           \n",
      "    12         1          8.0      8.0      2.5      return hero_data"
     ]
    }
   ],
   "source": [
    "%lprun -f convert_units convert_units(heroes, heights, weights)"
   ]
  },
  {
   "cell_type": "markdown",
   "metadata": {},
   "source": [
    "Memory Profiling Python"
   ]
  },
  {
   "cell_type": "code",
   "execution_count": 27,
   "metadata": {},
   "outputs": [
    {
     "data": {
      "text/plain": [
       "9104"
      ]
     },
     "execution_count": 27,
     "metadata": {},
     "output_type": "execute_result"
    }
   ],
   "source": [
    "# DirtyWay\n",
    "x = [*range(1000)]\n",
    "sys.getsizeof(x)"
   ]
  },
  {
   "cell_type": "markdown",
   "metadata": {},
   "source": [
    "Memory Profiling with memory_profiler (Remember to pip)"
   ]
  },
  {
   "cell_type": "code",
   "execution_count": 28,
   "metadata": {},
   "outputs": [],
   "source": [
    "%load_ext memory_profiler"
   ]
  },
  {
   "cell_type": "code",
   "execution_count": 29,
   "metadata": {},
   "outputs": [],
   "source": [
    "# Import function from file \n",
    "from bmi_lists import calc_bmi_lists"
   ]
  },
  {
   "cell_type": "code",
   "execution_count": null,
   "metadata": {},
   "outputs": [],
   "source": [
    "%mprun -f calc_bmi_lists calc_bmi_lists(sample_indices,hts,wts)"
   ]
  },
  {
   "cell_type": "markdown",
   "metadata": {},
   "source": [
    "## Gaining efficiencies"
   ]
  },
  {
   "cell_type": "markdown",
   "metadata": {},
   "source": [
    "Zip builting function"
   ]
  },
  {
   "cell_type": "code",
   "execution_count": 6,
   "metadata": {},
   "outputs": [
    {
     "name": "stdout",
     "output_type": "stream",
     "text": [
      "('Abomasnow', 'Grass', 'Ice')\n",
      "('Abra', 'Psychic', None)\n",
      "('Absol', 'Dark', None)\n",
      "('Accelgor', 'Bug', None)\n",
      "('Aerodactyl', 'Rock', 'Flying')\n",
      "('Aggron', 'Steel', 'Rock')\n",
      "('Aipom', 'Normal', None)\n",
      "('Alakazam', 'Psychic', None)\n",
      "('Alomomola', 'Water', None)\n",
      "('Altaria', 'Dragon', 'Flying')\n",
      "('Amaura', 'Rock', 'Ice')\n",
      "('Ambipom', 'Normal', None)\n",
      "('Amoonguss', 'Grass', 'Poison')\n",
      "('Ampharos', 'Electric', None)\n",
      "('Anorith', 'Rock', 'Bug')\n"
     ]
    }
   ],
   "source": [
    "# Dataset Pokemons\n",
    "names = ['Abomasnow', 'Abra', 'Absol', 'Accelgor', 'Aerodactyl', 'Aggron', 'Aipom', 'Alakazam', 'Alomomola', 'Altaria', 'Amaura', 'Ambipom', 'Amoonguss', 'Ampharos', 'Anorith']\n",
    "primary_types = ['Grass', 'Psychic', 'Dark', 'Bug', 'Rock', 'Steel', 'Normal', 'Psychic', 'Water', 'Dragon', 'Rock', 'Normal', 'Grass', 'Electric', 'Rock']\n",
    "secondary_types = ['Ice', None, None, None, 'Flying', 'Rock', None, None, None, 'Flying', 'Ice', None, 'Poison', None, 'Bug']\n",
    "\n",
    "names_types = zip(names, primary_types, secondary_types)\n",
    "names_types_list = [*names_types]\n",
    "print(*names_types_list, sep='\\n')"
   ]
  },
  {
   "cell_type": "markdown",
   "metadata": {},
   "source": [
    "Counter"
   ]
  },
  {
   "cell_type": "code",
   "execution_count": 11,
   "metadata": {},
   "outputs": [
    {
     "name": "stdout",
     "output_type": "stream",
     "text": [
      "Counter({'Rock': 3, 'Grass': 2, 'Psychic': 2, 'Normal': 2, 'Dark': 1, 'Bug': 1, 'Steel': 1, 'Water': 1, 'Dragon': 1, 'Electric': 1})\n"
     ]
    }
   ],
   "source": [
    "from collections import Counter\n",
    "count_types = Counter(primary_types)\n",
    "print(count_types)"
   ]
  },
  {
   "cell_type": "markdown",
   "metadata": {},
   "source": [
    "Combinations"
   ]
  },
  {
   "cell_type": "code",
   "execution_count": 19,
   "metadata": {},
   "outputs": [
    {
     "name": "stdout",
     "output_type": "stream",
     "text": [
      "[('Abomasnow', 'Abra'), ('Abomasnow', 'Absol'), ('Abomasnow', 'Accelgor'), ('Abomasnow', 'Aerodactyl'), ('Abomasnow', 'Aggron'), ('Abomasnow', 'Aipom'), ('Abomasnow', 'Alakazam'), ('Abomasnow', 'Alomomola'), ('Abomasnow', 'Altaria'), ('Abomasnow', 'Amaura'), ('Abomasnow', 'Ambipom'), ('Abomasnow', 'Amoonguss'), ('Abomasnow', 'Ampharos'), ('Abomasnow', 'Anorith'), ('Abra', 'Absol'), ('Abra', 'Accelgor'), ('Abra', 'Aerodactyl'), ('Abra', 'Aggron'), ('Abra', 'Aipom'), ('Abra', 'Alakazam'), ('Abra', 'Alomomola'), ('Abra', 'Altaria'), ('Abra', 'Amaura'), ('Abra', 'Ambipom'), ('Abra', 'Amoonguss'), ('Abra', 'Ampharos'), ('Abra', 'Anorith'), ('Absol', 'Accelgor'), ('Absol', 'Aerodactyl'), ('Absol', 'Aggron'), ('Absol', 'Aipom'), ('Absol', 'Alakazam'), ('Absol', 'Alomomola'), ('Absol', 'Altaria'), ('Absol', 'Amaura'), ('Absol', 'Ambipom'), ('Absol', 'Amoonguss'), ('Absol', 'Ampharos'), ('Absol', 'Anorith'), ('Accelgor', 'Aerodactyl'), ('Accelgor', 'Aggron'), ('Accelgor', 'Aipom'), ('Accelgor', 'Alakazam'), ('Accelgor', 'Alomomola'), ('Accelgor', 'Altaria'), ('Accelgor', 'Amaura'), ('Accelgor', 'Ambipom'), ('Accelgor', 'Amoonguss'), ('Accelgor', 'Ampharos'), ('Accelgor', 'Anorith'), ('Aerodactyl', 'Aggron'), ('Aerodactyl', 'Aipom'), ('Aerodactyl', 'Alakazam'), ('Aerodactyl', 'Alomomola'), ('Aerodactyl', 'Altaria'), ('Aerodactyl', 'Amaura'), ('Aerodactyl', 'Ambipom'), ('Aerodactyl', 'Amoonguss'), ('Aerodactyl', 'Ampharos'), ('Aerodactyl', 'Anorith'), ('Aggron', 'Aipom'), ('Aggron', 'Alakazam'), ('Aggron', 'Alomomola'), ('Aggron', 'Altaria'), ('Aggron', 'Amaura'), ('Aggron', 'Ambipom'), ('Aggron', 'Amoonguss'), ('Aggron', 'Ampharos'), ('Aggron', 'Anorith'), ('Aipom', 'Alakazam'), ('Aipom', 'Alomomola'), ('Aipom', 'Altaria'), ('Aipom', 'Amaura'), ('Aipom', 'Ambipom'), ('Aipom', 'Amoonguss'), ('Aipom', 'Ampharos'), ('Aipom', 'Anorith'), ('Alakazam', 'Alomomola'), ('Alakazam', 'Altaria'), ('Alakazam', 'Amaura'), ('Alakazam', 'Ambipom'), ('Alakazam', 'Amoonguss'), ('Alakazam', 'Ampharos'), ('Alakazam', 'Anorith'), ('Alomomola', 'Altaria'), ('Alomomola', 'Amaura'), ('Alomomola', 'Ambipom'), ('Alomomola', 'Amoonguss'), ('Alomomola', 'Ampharos'), ('Alomomola', 'Anorith'), ('Altaria', 'Amaura'), ('Altaria', 'Ambipom'), ('Altaria', 'Amoonguss'), ('Altaria', 'Ampharos'), ('Altaria', 'Anorith'), ('Amaura', 'Ambipom'), ('Amaura', 'Amoonguss'), ('Amaura', 'Ampharos'), ('Amaura', 'Anorith'), ('Ambipom', 'Amoonguss'), ('Ambipom', 'Ampharos'), ('Ambipom', 'Anorith'), ('Amoonguss', 'Ampharos'), ('Amoonguss', 'Anorith'), ('Ampharos', 'Anorith')]\n"
     ]
    }
   ],
   "source": [
    "from itertools import combinations\n",
    "possible_combinations = [*combinations(names,2)]\n",
    "print(possible_combinations)"
   ]
  },
  {
   "cell_type": "markdown",
   "metadata": {},
   "source": [
    "Sets (DataType with distinct instances)"
   ]
  },
  {
   "cell_type": "code",
   "execution_count": 22,
   "metadata": {},
   "outputs": [
    {
     "name": "stdout",
     "output_type": "stream",
     "text": [
      "{'Psyduck', 'Squirtle'}\n",
      "{'Koffing', 'Pikachu', 'Rattata', 'Vulpix', 'Zubat', 'Bulbasaur', 'Spearow', 'Wigglytuff'}\n",
      "{'Magikarp', 'Koffing', 'Pikachu', 'Poliwag', 'Rattata', 'Krabby', 'Vulpix', 'Slowbro', 'Vaporeon', 'Zubat', 'Bulbasaur', 'Spearow', 'Tentacool', 'Horsea', 'Wigglytuff', 'Starmie'}\n",
      "64.1 ns ± 1.61 ns per loop (mean ± std. dev. of 7 runs, 10000000 loops each)\n",
      "247 ns ± 11.6 ns per loop (mean ± std. dev. of 7 runs, 1000000 loops each)\n"
     ]
    }
   ],
   "source": [
    "# Dataset\n",
    "ash_pokedex = ['Pikachu', 'Bulbasaur', 'Koffing', 'Spearow', 'Vulpix', 'Wigglytuff', 'Zubat', 'Rattata', 'Psyduck', 'Squirtle'] \n",
    "misty_pokedex = ['Krabby', 'Horsea', 'Slowbro', 'Tentacool', 'Vaporeon', 'Magikarp', 'Poliwag', 'Starmie', 'Psyduck', 'Squirtle']\n",
    "\n",
    "ash_set = set(ash_pokedex)\n",
    "misty_set = set(misty_pokedex)\n",
    "\n",
    "# Find the Pokémon that exist in both sets\n",
    "both = ash_set.intersection(misty_set)\n",
    "print(both)\n",
    "\n",
    "# Find the Pokémon that Ash has and Misty does not have\n",
    "ash_only = ash_set.difference(misty_set)\n",
    "print(ash_only)\n",
    "\n",
    "# Find the Pokémon that are in only one set (not both)\n",
    "unique_to_set = ash_set.symmetric_difference(misty_set)\n",
    "print(unique_to_set)\n",
    "\n",
    "# Find element in set is faster than lists\n",
    "%timeit 'Pikachu' in misty_set\n",
    "%timeit 'Pikachu' in misty_pokedex\n",
    "\n"
   ]
  },
  {
   "cell_type": "markdown",
   "metadata": {},
   "source": [
    "## Basic pandas optimizations"
   ]
  },
  {
   "cell_type": "code",
   "execution_count": 2,
   "metadata": {},
   "outputs": [
    {
     "data": {
      "text/html": [
       "<div>\n",
       "<style scoped>\n",
       "    .dataframe tbody tr th:only-of-type {\n",
       "        vertical-align: middle;\n",
       "    }\n",
       "\n",
       "    .dataframe tbody tr th {\n",
       "        vertical-align: top;\n",
       "    }\n",
       "\n",
       "    .dataframe thead th {\n",
       "        text-align: right;\n",
       "    }\n",
       "</style>\n",
       "<table border=\"1\" class=\"dataframe\">\n",
       "  <thead>\n",
       "    <tr style=\"text-align: right;\">\n",
       "      <th></th>\n",
       "      <th>Team</th>\n",
       "      <th>League</th>\n",
       "      <th>Year</th>\n",
       "      <th>RS</th>\n",
       "      <th>RA</th>\n",
       "      <th>W</th>\n",
       "      <th>G</th>\n",
       "      <th>Playoffs</th>\n",
       "    </tr>\n",
       "  </thead>\n",
       "  <tbody>\n",
       "    <tr>\n",
       "      <th>0</th>\n",
       "      <td>PIT</td>\n",
       "      <td>NL</td>\n",
       "      <td>2012</td>\n",
       "      <td>651</td>\n",
       "      <td>674</td>\n",
       "      <td>79</td>\n",
       "      <td>162</td>\n",
       "      <td>0</td>\n",
       "    </tr>\n",
       "    <tr>\n",
       "      <th>1</th>\n",
       "      <td>PIT</td>\n",
       "      <td>NL</td>\n",
       "      <td>2011</td>\n",
       "      <td>610</td>\n",
       "      <td>712</td>\n",
       "      <td>72</td>\n",
       "      <td>162</td>\n",
       "      <td>0</td>\n",
       "    </tr>\n",
       "    <tr>\n",
       "      <th>2</th>\n",
       "      <td>PIT</td>\n",
       "      <td>NL</td>\n",
       "      <td>2010</td>\n",
       "      <td>587</td>\n",
       "      <td>866</td>\n",
       "      <td>57</td>\n",
       "      <td>162</td>\n",
       "      <td>0</td>\n",
       "    </tr>\n",
       "    <tr>\n",
       "      <th>3</th>\n",
       "      <td>PIT</td>\n",
       "      <td>NL</td>\n",
       "      <td>2009</td>\n",
       "      <td>636</td>\n",
       "      <td>768</td>\n",
       "      <td>62</td>\n",
       "      <td>161</td>\n",
       "      <td>0</td>\n",
       "    </tr>\n",
       "    <tr>\n",
       "      <th>4</th>\n",
       "      <td>PIT</td>\n",
       "      <td>NL</td>\n",
       "      <td>2008</td>\n",
       "      <td>735</td>\n",
       "      <td>884</td>\n",
       "      <td>67</td>\n",
       "      <td>162</td>\n",
       "      <td>0</td>\n",
       "    </tr>\n",
       "  </tbody>\n",
       "</table>\n",
       "</div>"
      ],
      "text/plain": [
       "  Team League  Year   RS   RA   W    G  Playoffs\n",
       "0  PIT     NL  2012  651  674  79  162         0\n",
       "1  PIT     NL  2011  610  712  72  162         0\n",
       "2  PIT     NL  2010  587  866  57  162         0\n",
       "3  PIT     NL  2009  636  768  62  161         0\n",
       "4  PIT     NL  2008  735  884  67  162         0"
      ]
     },
     "execution_count": 2,
     "metadata": {},
     "output_type": "execute_result"
    }
   ],
   "source": [
    "# Dataframe \n",
    "df = {'Team': {0: 'PIT', 1: 'PIT', 2: 'PIT', 3: 'PIT', 4: 'PIT'},\n",
    "      'League': {0: 'NL', 1: 'NL', 2: 'NL', 3: 'NL', 4: 'NL'},\n",
    "      'Year': {0: 2012, 1: 2011, 2: 2010, 3: 2009, 4: 2008},\n",
    "      'RS': {0: 651, 1: 610, 2: 587, 3: 636, 4: 735},\n",
    "      'RA': {0: 674, 1: 712, 2: 866, 3: 768, 4: 884},\n",
    "      'W': {0: 79, 1: 72, 2: 57, 3: 62, 4: 67},\n",
    "      'G': {0: 162, 1: 162, 2: 162, 3: 161, 4: 162},\n",
    "      'Playoffs': {0: 0, 1: 0, 2: 0, 3: 0, 4: 0}}\n",
    "df = pd.DataFrame(df)\n",
    "df.head()"
   ]
  },
  {
   "cell_type": "markdown",
   "metadata": {},
   "source": [
    "Iterrows"
   ]
  },
  {
   "cell_type": "code",
   "execution_count": 5,
   "metadata": {},
   "outputs": [
    {
     "name": "stdout",
     "output_type": "stream",
     "text": [
      "0\n",
      "Team         PIT\n",
      "League        NL\n",
      "Year        2012\n",
      "RS           651\n",
      "RA           674\n",
      "W             79\n",
      "G            162\n",
      "Playoffs       0\n",
      "Name: 0, dtype: object\n",
      "<class 'pandas.core.series.Series'> \n",
      "\n",
      "1\n",
      "Team         PIT\n",
      "League        NL\n",
      "Year        2011\n",
      "RS           610\n",
      "RA           712\n",
      "W             72\n",
      "G            162\n",
      "Playoffs       0\n",
      "Name: 1, dtype: object\n",
      "<class 'pandas.core.series.Series'> \n",
      "\n",
      "2\n",
      "Team         PIT\n",
      "League        NL\n",
      "Year        2010\n",
      "RS           587\n",
      "RA           866\n",
      "W             57\n",
      "G            162\n",
      "Playoffs       0\n",
      "Name: 2, dtype: object\n",
      "<class 'pandas.core.series.Series'> \n",
      "\n",
      "3\n",
      "Team         PIT\n",
      "League        NL\n",
      "Year        2009\n",
      "RS           636\n",
      "RA           768\n",
      "W             62\n",
      "G            161\n",
      "Playoffs       0\n",
      "Name: 3, dtype: object\n",
      "<class 'pandas.core.series.Series'> \n",
      "\n",
      "4\n",
      "Team         PIT\n",
      "League        NL\n",
      "Year        2008\n",
      "RS           735\n",
      "RA           884\n",
      "W             67\n",
      "G            162\n",
      "Playoffs       0\n",
      "Name: 4, dtype: object\n",
      "<class 'pandas.core.series.Series'> \n",
      "\n"
     ]
    }
   ],
   "source": [
    "for index, row in df.iterrows():\n",
    "    print(index)\n",
    "    print(row)\n",
    "    print(type(row), '\\n')"
   ]
  },
  {
   "cell_type": "code",
   "execution_count": 9,
   "metadata": {},
   "outputs": [
    {
     "name": "stdout",
     "output_type": "stream",
     "text": [
      "2012\n",
      "RS -> 651\n",
      "RA -> 674 \n",
      "\n",
      "2011\n",
      "RS -> 610\n",
      "RA -> 712 \n",
      "\n",
      "2010\n",
      "RS -> 587\n",
      "RA -> 866 \n",
      "\n",
      "2009\n",
      "RS -> 636\n",
      "RA -> 768 \n",
      "\n",
      "2008\n",
      "RS -> 735\n",
      "RA -> 884 \n",
      "\n"
     ]
    }
   ],
   "source": [
    "for i,row in df.iterrows():\n",
    "    print(row['Year'])\n",
    "    print('RS ->',row['RS'])\n",
    "    print('RA ->',row['RA'], '\\n')"
   ]
  },
  {
   "cell_type": "markdown",
   "metadata": {},
   "source": [
    ".Itertuples (Itertuples is faster than Iterrows)"
   ]
  },
  {
   "cell_type": "code",
   "execution_count": 10,
   "metadata": {},
   "outputs": [
    {
     "name": "stdout",
     "output_type": "stream",
     "text": [
      "0 2012 79\n",
      "1 2011 72\n",
      "2 2010 57\n",
      "3 2009 62\n",
      "4 2008 67\n"
     ]
    }
   ],
   "source": [
    "for row in df.itertuples():\n",
    "  i = row.Index\n",
    "  year = row.Year\n",
    "  wins = row.W\n",
    "  print(i, year, wins)"
   ]
  },
  {
   "cell_type": "markdown",
   "metadata": {},
   "source": [
    ".Apply (Better then loops)"
   ]
  },
  {
   "cell_type": "code",
   "execution_count": 12,
   "metadata": {},
   "outputs": [
    {
     "name": "stdout",
     "output_type": "stream",
     "text": [
      "RS          3783\n",
      "RA          3265\n",
      "W            458\n",
      "Playoffs       3\n",
      "dtype: int64\n"
     ]
    }
   ],
   "source": [
    "df2 = {'RS': {2012: 697, 2011: 707, 2010: 802, 2009: 803, 2008: 774},\n",
    " 'RA': {2012: 577, 2011: 614, 2010: 649, 2009: 754, 2008: 671},\n",
    " 'W': {2012: 90, 2011: 91, 2010: 96, 2009: 84, 2008: 97},\n",
    " 'Playoffs': {2012: 0, 2011: 1, 2010: 1, 2009: 0, 2008: 1}}\n",
    "df2 = pd.DataFrame(df2)\n",
    "\n",
    "# Sum all cols\n",
    "stat_totals = df2.apply(sum, axis=0)\n",
    "print(stat_totals)"
   ]
  },
  {
   "cell_type": "code",
   "execution_count": 16,
   "metadata": {},
   "outputs": [
    {
     "name": "stdout",
     "output_type": "stream",
     "text": [
      "2012     No\n",
      "2011    Yes\n",
      "2010    Yes\n",
      "2009     No\n",
      "2008    Yes\n",
      "dtype: object\n"
     ]
    }
   ],
   "source": [
    "# Custom Function\n",
    "def text_playoffs(num_playoffs): \n",
    "    if num_playoffs == 1:\n",
    "        return 'Yes'\n",
    "    else:\n",
    "        return 'No' \n",
    "\n",
    "# Apply\n",
    "textual_playoffs = df2.apply(lambda row: text_playoffs(row['Playoffs']), axis=1)\n",
    "print(textual_playoffs)"
   ]
  },
  {
   "cell_type": "code",
   "execution_count": 19,
   "metadata": {},
   "outputs": [
    {
     "name": "stdout",
     "output_type": "stream",
     "text": [
      "  Team League  Year   RS   RA   W    G  Playoffs    WP\n",
      "0  PIT     NL  2012  651  674  79  162         0  0.49\n",
      "1  PIT     NL  2011  610  712  72  162         0  0.44\n",
      "2  PIT     NL  2010  587  866  57  162         0  0.35\n",
      "3  PIT     NL  2009  636  768  62  161         0  0.39\n",
      "4  PIT     NL  2008  735  884  67  162         0  0.41 \n",
      "\n"
     ]
    }
   ],
   "source": [
    "# Custom Function\n",
    "def calc_win_perc(wins, games_played):\n",
    "    win_perc = wins / games_played\n",
    "    return np.round(win_perc,2)\n",
    "\n",
    "# Create a win percentage Series \n",
    "win_percs = df.apply(lambda row: calc_win_perc(row['W'], row['G']), axis=1)\n",
    "\n",
    "# Append a new column to dbacks_df\n",
    "df[\"WP\"] = win_percs\n",
    "print(df, '\\n')"
   ]
  },
  {
   "cell_type": "markdown",
   "metadata": {},
   "source": [
    "Pandas is built on top of Numpy and NumpyArrays broadcasting is faster then other loop methods"
   ]
  },
  {
   "cell_type": "code",
   "execution_count": 20,
   "metadata": {},
   "outputs": [
    {
     "name": "stdout",
     "output_type": "stream",
     "text": [
      "  Team League  Year   RS   RA   W    G  Playoffs    WP\n",
      "0  PIT     NL  2012  651  674  79  162         0  0.49\n",
      "1  PIT     NL  2011  610  712  72  162         0  0.44\n",
      "2  PIT     NL  2010  587  866  57  162         0  0.35\n",
      "3  PIT     NL  2009  636  768  62  161         0  0.39\n",
      "4  PIT     NL  2008  735  884  67  162         0  0.41 \n",
      "\n"
     ]
    }
   ],
   "source": [
    "# Faster method with numpyArray broadcasting\n",
    "win_percs_np = calc_win_perc(df['W'].values, df['G'].values)\n",
    "df[\"WP\"] = win_percs_np\n",
    "print(df, '\\n')"
   ]
  },
  {
   "cell_type": "markdown",
   "metadata": {},
   "source": [
    "Comparison Itertuples / Apply Lambda / NpArray"
   ]
  },
  {
   "cell_type": "code",
   "execution_count": 22,
   "metadata": {},
   "outputs": [
    {
     "name": "stdout",
     "output_type": "stream",
     "text": [
      "  Team League  Year   RS   RA   W    G  Playoffs    WP  WP_preds\n",
      "0  PIT     NL  2012  651  674  79  162         0  0.49      0.48\n",
      "1  PIT     NL  2011  610  712  72  162         0  0.44      0.42\n",
      "2  PIT     NL  2010  587  866  57  162         0  0.35      0.31\n",
      "3  PIT     NL  2009  636  768  62  161         0  0.39      0.41\n",
      "4  PIT     NL  2008  735  884  67  162         0  0.41      0.41\n"
     ]
    }
   ],
   "source": [
    "win_perc_preds_loop = []\n",
    "\n",
    "# Custom Function\n",
    "def predict_win_perc(RS, RA):\n",
    "    prediction = RS ** 2 / (RS ** 2 + RA ** 2)\n",
    "    return np.round(prediction, 2)\n",
    "\n",
    "# Use a loop and .itertuples() to collect each row's predicted win percentage\n",
    "for row in df.itertuples():\n",
    "    runs_scored = row.RS\n",
    "    runs_allowed = row.RA\n",
    "    win_perc_pred = predict_win_perc(runs_scored, runs_allowed)\n",
    "    win_perc_preds_loop.append(win_perc_pred)\n",
    "\n",
    "# Apply predict_win_perc to each row of the DataFrame\n",
    "win_perc_preds_apply = df.apply(lambda row: predict_win_perc(row['RS'], row['RA']), axis=1)\n",
    "\n",
    "# Calculate the win percentage predictions using NumPy arrays\n",
    "win_perc_preds_np = predict_win_perc(df['RS'].values, df['RA'].values)\n",
    "df['WP_preds'] = win_perc_preds_np\n",
    "print(df.head())"
   ]
  },
  {
   "cell_type": "code",
   "execution_count": 23,
   "metadata": {},
   "outputs": [
    {
     "name": "stdout",
     "output_type": "stream",
     "text": [
      "1.93 ms ± 23.4 µs per loop (mean ± std. dev. of 7 runs, 1000 loops each)\n"
     ]
    }
   ],
   "source": [
    "%%timeit\n",
    "for row in df.itertuples():\n",
    "    runs_scored = row.RS\n",
    "    runs_allowed = row.RA\n",
    "    win_perc_pred = predict_win_perc(runs_scored, runs_allowed)\n",
    "    win_perc_preds_loop.append(win_perc_pred)"
   ]
  },
  {
   "cell_type": "code",
   "execution_count": 24,
   "metadata": {},
   "outputs": [
    {
     "name": "stdout",
     "output_type": "stream",
     "text": [
      "1.99 ms ± 115 µs per loop (mean ± std. dev. of 7 runs, 1000 loops each)\n"
     ]
    }
   ],
   "source": [
    "%%timeit\n",
    "win_perc_preds_apply = df.apply(lambda row: predict_win_perc(row['RS'], row['RA']), axis=1)"
   ]
  },
  {
   "cell_type": "code",
   "execution_count": 25,
   "metadata": {},
   "outputs": [
    {
     "name": "stdout",
     "output_type": "stream",
     "text": [
      "376 µs ± 58.4 µs per loop (mean ± std. dev. of 7 runs, 1000 loops each)\n"
     ]
    }
   ],
   "source": [
    "%%timeit\n",
    "win_perc_preds_np = predict_win_perc(df['RS'].values, df['RA'].values)\n",
    "df['WP_preds'] = win_perc_preds_np"
   ]
  }
 ],
 "metadata": {
  "interpreter": {
   "hash": "2a9c283881288bc8345488d89afcea2916cc52ed9130ad0e473a7427fa4f195f"
  },
  "kernelspec": {
   "display_name": "Python 3.8.8 ('base')",
   "language": "python",
   "name": "python3"
  },
  "language_info": {
   "codemirror_mode": {
    "name": "ipython",
    "version": 3
   },
   "file_extension": ".py",
   "mimetype": "text/x-python",
   "name": "python",
   "nbconvert_exporter": "python",
   "pygments_lexer": "ipython3",
   "version": "3.8.8"
  },
  "orig_nbformat": 4
 },
 "nbformat": 4,
 "nbformat_minor": 2
}
