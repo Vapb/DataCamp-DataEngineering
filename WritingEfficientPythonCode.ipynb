{
 "cells": [
  {
   "cell_type": "code",
   "execution_count": 11,
   "metadata": {},
   "outputs": [],
   "source": [
    "import pandas as pd\n",
    "import numpy as np"
   ]
  },
  {
   "cell_type": "markdown",
   "metadata": {},
   "source": [
    "## Foundations for efficiencies"
   ]
  },
  {
   "cell_type": "markdown",
   "metadata": {},
   "source": [
    "Built-in functions"
   ]
  },
  {
   "cell_type": "code",
   "execution_count": 3,
   "metadata": {},
   "outputs": [
    {
     "name": "stdout",
     "output_type": "stream",
     "text": [
      "[0, 1, 2, 3, 4, 5]\n",
      "[1, 3, 5, 7, 9, 11]\n"
     ]
    }
   ],
   "source": [
    "# Range\n",
    "# Range from 0-5\n",
    "print(list(range(6)))\n",
    "\n",
    "# List of odd numbers from 1 to 11\n",
    "print([*range(1,12,2)])"
   ]
  },
  {
   "cell_type": "code",
   "execution_count": 5,
   "metadata": {},
   "outputs": [
    {
     "name": "stdout",
     "output_type": "stream",
     "text": [
      "[(0, 'Jerry'), (1, 'Kramer'), (2, 'Elaine'), (3, 'George'), (4, 'Newman')]\n",
      "[(0, 'Jerry'), (1, 'Kramer'), (2, 'Elaine'), (3, 'George'), (4, 'Newman')]\n",
      "[(1, 'Jerry'), (2, 'Kramer'), (3, 'Elaine'), (4, 'George'), (5, 'Newman')]\n"
     ]
    }
   ],
   "source": [
    "# Enumerate\n",
    "names = ['Jerry', 'Kramer', 'Elaine', 'George', 'Newman']\n",
    "indexed_names = []\n",
    "\n",
    "# Simple example\n",
    "for i,name in enumerate(names):\n",
    "    index_name = (i,name)\n",
    "    indexed_names.append(index_name) \n",
    "print(indexed_names)\n",
    "\n",
    "# List comprehension\n",
    "print([(i,name) for i,name in enumerate(names)])\n",
    "\n",
    "# list starting with one\n",
    "print([*enumerate(names, 1)])"
   ]
  },
  {
   "cell_type": "code",
   "execution_count": 8,
   "metadata": {},
   "outputs": [
    {
     "name": "stdout",
     "output_type": "stream",
     "text": [
      "['JERRY', 'KRAMER', 'ELAINE', 'GEORGE', 'NEWMAN']\n",
      "['a', 'b', 'c']\n"
     ]
    }
   ],
   "source": [
    "# Map\n",
    "names_map  = map(str.upper, names)\n",
    "print([*names_map])\n",
    "\n",
    "# Lambda\n",
    "print(list(map(lambda x: x.lower(), [\"A\", \"B\", \"C\"])))"
   ]
  },
  {
   "cell_type": "code",
   "execution_count": 14,
   "metadata": {},
   "outputs": [
    {
     "name": "stdout",
     "output_type": "stream",
     "text": [
      "int32\n",
      "[2 7]\n",
      "[ 7  8  9 10]\n",
      "[[ 2  3  4  5  6]\n",
      " [ 7  8  9 10 11]]\n"
     ]
    }
   ],
   "source": [
    "# Numpy\n",
    "nums = [[1, 2, 3, 4, 5],[6, 7, 8, 9, 10]]\n",
    "nums = np.array(nums)\n",
    "\n",
    "#Numpy array is faster than python List because of npArray homogenity (Same type)\n",
    "print(nums.dtype)\n",
    "\n",
    "#Numpy has special indexing\n",
    "# Example Print second row of nums\n",
    "print(nums[:,1])\n",
    "\n",
    "#Numpy array has boolean indexing\n",
    "# Example Print all values large then 6\n",
    "print(nums[nums > 6])\n",
    "\n",
    "#Numpy allow to do math operations easier\n",
    "print(nums + 1)"
   ]
  },
  {
   "cell_type": "markdown",
   "metadata": {},
   "source": [
    "## Timing and profiling code"
   ]
  },
  {
   "cell_type": "markdown",
   "metadata": {},
   "source": [
    "Comparer times with timeit"
   ]
  },
  {
   "cell_type": "code",
   "execution_count": 21,
   "metadata": {},
   "outputs": [
    {
     "name": "stdout",
     "output_type": "stream",
     "text": [
      "3.92 µs ± 688 ns per loop (mean ± std. dev. of 7 runs, 100000 loops each)\n",
      "1.12 µs ± 57.9 ns per loop (mean ± std. dev. of 7 runs, 1000000 loops each)\n"
     ]
    }
   ],
   "source": [
    "# Compare Unpack with Copr\n",
    "%timeit nums_list_comp = [num for num in range(51)]\n",
    "\n",
    "%timeit nums_list_unpack = [*range(51)]"
   ]
  },
  {
   "cell_type": "code",
   "execution_count": 20,
   "metadata": {},
   "outputs": [
    {
     "name": "stdout",
     "output_type": "stream",
     "text": [
      "902 ns ± 98.8 ns per loop (mean ± std. dev. of 5 runs, 25 loops each)\n"
     ]
    }
   ],
   "source": [
    "# Specify runTimes and Loops\n",
    "heroes = ['A','B','C','D','E','F']\n",
    "%timeit -r5 -n25 set(heroes)"
   ]
  },
  {
   "cell_type": "markdown",
   "metadata": {},
   "source": [
    "Profiling Using Python line_profiling (Remember to PIP)"
   ]
  },
  {
   "cell_type": "code",
   "execution_count": 22,
   "metadata": {},
   "outputs": [],
   "source": [
    "%load_ext line_profiler"
   ]
  },
  {
   "cell_type": "code",
   "execution_count": 24,
   "metadata": {},
   "outputs": [],
   "source": [
    "# Random Function\n",
    "def convert_units(heroes, heights, weights):\n",
    "\n",
    "    new_hts = [ht * 0.39370  for ht in heights]\n",
    "    new_wts = [wt * 2.20462  for wt in weights]\n",
    "\n",
    "    hero_data = {}\n",
    "\n",
    "    for i,hero in enumerate(heroes):\n",
    "        hero_data[hero] = (new_hts[i], new_wts[i])\n",
    "\n",
    "    return hero_data\n",
    "\n",
    "heroes = ['A', 'B', 'C']\n",
    "heights = [1.7, 1.8, 1.9]\n",
    "weights = [80, 87, 130]"
   ]
  },
  {
   "cell_type": "code",
   "execution_count": 25,
   "metadata": {},
   "outputs": [
    {
     "name": "stdout",
     "output_type": "stream",
     "text": [
      "Timer unit: 1e-07 s\n",
      "\n",
      "Total time: 3.14e-05 s\n",
      "File: <ipython-input-24-36b8cb35486a>\n",
      "Function: convert_units at line 2\n",
      "\n",
      "Line #      Hits         Time  Per Hit   % Time  Line Contents\n",
      "==============================================================\n",
      "     2                                           def convert_units(heroes, heights, weights):\n",
      "     3                                           \n",
      "     4         1        102.0    102.0     32.5      new_hts = [ht * 0.39370  for ht in heights]\n",
      "     5         1         69.0     69.0     22.0      new_wts = [wt * 2.20462  for wt in weights]\n",
      "     6                                           \n",
      "     7         1         11.0     11.0      3.5      hero_data = {}\n",
      "     8                                           \n",
      "     9         4         75.0     18.8     23.9      for i,hero in enumerate(heroes):\n",
      "    10         3         49.0     16.3     15.6          hero_data[hero] = (new_hts[i], new_wts[i])\n",
      "    11                                           \n",
      "    12         1          8.0      8.0      2.5      return hero_data"
     ]
    }
   ],
   "source": [
    "%lprun -f convert_units convert_units(heroes, heights, weights)"
   ]
  }
 ],
 "metadata": {
  "interpreter": {
   "hash": "2a9c283881288bc8345488d89afcea2916cc52ed9130ad0e473a7427fa4f195f"
  },
  "kernelspec": {
   "display_name": "Python 3.8.8 ('base')",
   "language": "python",
   "name": "python3"
  },
  "language_info": {
   "codemirror_mode": {
    "name": "ipython",
    "version": 3
   },
   "file_extension": ".py",
   "mimetype": "text/x-python",
   "name": "python",
   "nbconvert_exporter": "python",
   "pygments_lexer": "ipython3",
   "version": "3.8.8"
  },
  "orig_nbformat": 4
 },
 "nbformat": 4,
 "nbformat_minor": 2
}
